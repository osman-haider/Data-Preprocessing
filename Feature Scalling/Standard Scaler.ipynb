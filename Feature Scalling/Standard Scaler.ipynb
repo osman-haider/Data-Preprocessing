{
 "cells": [
  {
   "cell_type": "code",
   "execution_count": 63,
   "id": "e8153541-2b6f-4fbd-b78f-7a37086d96fb",
   "metadata": {},
   "outputs": [],
   "source": [
    "import pandas as pd\n",
    "import numpy as np\n",
    "import matplotlib.pyplot as plt\n",
    "import seaborn as sns"
   ]
  },
  {
   "cell_type": "code",
   "execution_count": 30,
   "id": "f263065e-3df7-45b0-90a1-e92d8b4c77a9",
   "metadata": {},
   "outputs": [],
   "source": [
    "data = pd.read_csv('titanic.csv')"
   ]
  },
  {
   "cell_type": "code",
   "execution_count": 31,
   "id": "c8dbe29f-9cc0-4b8a-9b36-3842f3a0a222",
   "metadata": {},
   "outputs": [
    {
     "data": {
      "text/html": [
       "<div>\n",
       "<style scoped>\n",
       "    .dataframe tbody tr th:only-of-type {\n",
       "        vertical-align: middle;\n",
       "    }\n",
       "\n",
       "    .dataframe tbody tr th {\n",
       "        vertical-align: top;\n",
       "    }\n",
       "\n",
       "    .dataframe thead th {\n",
       "        text-align: right;\n",
       "    }\n",
       "</style>\n",
       "<table border=\"1\" class=\"dataframe\">\n",
       "  <thead>\n",
       "    <tr style=\"text-align: right;\">\n",
       "      <th></th>\n",
       "      <th>PassengerId</th>\n",
       "      <th>Survived</th>\n",
       "      <th>Pclass</th>\n",
       "      <th>Name</th>\n",
       "      <th>Sex</th>\n",
       "      <th>Age</th>\n",
       "      <th>SibSp</th>\n",
       "      <th>Parch</th>\n",
       "      <th>Ticket</th>\n",
       "      <th>Fare</th>\n",
       "      <th>Cabin</th>\n",
       "      <th>Embarked</th>\n",
       "    </tr>\n",
       "  </thead>\n",
       "  <tbody>\n",
       "    <tr>\n",
       "      <th>0</th>\n",
       "      <td>892</td>\n",
       "      <td>0</td>\n",
       "      <td>3</td>\n",
       "      <td>Kelly, Mr. James</td>\n",
       "      <td>male</td>\n",
       "      <td>34.5</td>\n",
       "      <td>0</td>\n",
       "      <td>0</td>\n",
       "      <td>330911</td>\n",
       "      <td>7.8292</td>\n",
       "      <td>NaN</td>\n",
       "      <td>Q</td>\n",
       "    </tr>\n",
       "    <tr>\n",
       "      <th>1</th>\n",
       "      <td>893</td>\n",
       "      <td>1</td>\n",
       "      <td>3</td>\n",
       "      <td>Wilkes, Mrs. James (Ellen Needs)</td>\n",
       "      <td>female</td>\n",
       "      <td>47.0</td>\n",
       "      <td>1</td>\n",
       "      <td>0</td>\n",
       "      <td>363272</td>\n",
       "      <td>7.0000</td>\n",
       "      <td>NaN</td>\n",
       "      <td>S</td>\n",
       "    </tr>\n",
       "    <tr>\n",
       "      <th>2</th>\n",
       "      <td>894</td>\n",
       "      <td>0</td>\n",
       "      <td>2</td>\n",
       "      <td>Myles, Mr. Thomas Francis</td>\n",
       "      <td>male</td>\n",
       "      <td>62.0</td>\n",
       "      <td>0</td>\n",
       "      <td>0</td>\n",
       "      <td>240276</td>\n",
       "      <td>9.6875</td>\n",
       "      <td>NaN</td>\n",
       "      <td>Q</td>\n",
       "    </tr>\n",
       "    <tr>\n",
       "      <th>3</th>\n",
       "      <td>895</td>\n",
       "      <td>0</td>\n",
       "      <td>3</td>\n",
       "      <td>Wirz, Mr. Albert</td>\n",
       "      <td>male</td>\n",
       "      <td>27.0</td>\n",
       "      <td>0</td>\n",
       "      <td>0</td>\n",
       "      <td>315154</td>\n",
       "      <td>8.6625</td>\n",
       "      <td>NaN</td>\n",
       "      <td>S</td>\n",
       "    </tr>\n",
       "    <tr>\n",
       "      <th>4</th>\n",
       "      <td>896</td>\n",
       "      <td>1</td>\n",
       "      <td>3</td>\n",
       "      <td>Hirvonen, Mrs. Alexander (Helga E Lindqvist)</td>\n",
       "      <td>female</td>\n",
       "      <td>22.0</td>\n",
       "      <td>1</td>\n",
       "      <td>1</td>\n",
       "      <td>3101298</td>\n",
       "      <td>12.2875</td>\n",
       "      <td>NaN</td>\n",
       "      <td>S</td>\n",
       "    </tr>\n",
       "  </tbody>\n",
       "</table>\n",
       "</div>"
      ],
      "text/plain": [
       "   PassengerId  Survived  Pclass  \\\n",
       "0          892         0       3   \n",
       "1          893         1       3   \n",
       "2          894         0       2   \n",
       "3          895         0       3   \n",
       "4          896         1       3   \n",
       "\n",
       "                                           Name     Sex   Age  SibSp  Parch  \\\n",
       "0                              Kelly, Mr. James    male  34.5      0      0   \n",
       "1              Wilkes, Mrs. James (Ellen Needs)  female  47.0      1      0   \n",
       "2                     Myles, Mr. Thomas Francis    male  62.0      0      0   \n",
       "3                              Wirz, Mr. Albert    male  27.0      0      0   \n",
       "4  Hirvonen, Mrs. Alexander (Helga E Lindqvist)  female  22.0      1      1   \n",
       "\n",
       "    Ticket     Fare Cabin Embarked  \n",
       "0   330911   7.8292   NaN        Q  \n",
       "1   363272   7.0000   NaN        S  \n",
       "2   240276   9.6875   NaN        Q  \n",
       "3   315154   8.6625   NaN        S  \n",
       "4  3101298  12.2875   NaN        S  "
      ]
     },
     "execution_count": 31,
     "metadata": {},
     "output_type": "execute_result"
    }
   ],
   "source": [
    "data.head()"
   ]
  },
  {
   "cell_type": "code",
   "execution_count": 32,
   "id": "a4019169-479e-46a5-b61a-9b0e31dc0cba",
   "metadata": {},
   "outputs": [],
   "source": [
    "data['family'] = data['SibSp'].values + data['Parch']"
   ]
  },
  {
   "cell_type": "code",
   "execution_count": 33,
   "id": "a2e6500f-ea0d-4328-a6d9-4d36e66d99ae",
   "metadata": {},
   "outputs": [],
   "source": [
    "data.drop(columns=['SibSp','Parch'],inplace=True)"
   ]
  },
  {
   "cell_type": "code",
   "execution_count": 35,
   "id": "3a7daadd-8fab-400a-8247-c78a72635de1",
   "metadata": {},
   "outputs": [
    {
     "data": {
      "text/html": [
       "<div>\n",
       "<style scoped>\n",
       "    .dataframe tbody tr th:only-of-type {\n",
       "        vertical-align: middle;\n",
       "    }\n",
       "\n",
       "    .dataframe tbody tr th {\n",
       "        vertical-align: top;\n",
       "    }\n",
       "\n",
       "    .dataframe thead th {\n",
       "        text-align: right;\n",
       "    }\n",
       "</style>\n",
       "<table border=\"1\" class=\"dataframe\">\n",
       "  <thead>\n",
       "    <tr style=\"text-align: right;\">\n",
       "      <th></th>\n",
       "      <th>PassengerId</th>\n",
       "      <th>Survived</th>\n",
       "      <th>Pclass</th>\n",
       "      <th>Name</th>\n",
       "      <th>Sex</th>\n",
       "      <th>Age</th>\n",
       "      <th>Ticket</th>\n",
       "      <th>Fare</th>\n",
       "      <th>Cabin</th>\n",
       "      <th>Embarked</th>\n",
       "      <th>family</th>\n",
       "    </tr>\n",
       "  </thead>\n",
       "  <tbody>\n",
       "    <tr>\n",
       "      <th>0</th>\n",
       "      <td>892</td>\n",
       "      <td>0</td>\n",
       "      <td>3</td>\n",
       "      <td>Kelly, Mr. James</td>\n",
       "      <td>male</td>\n",
       "      <td>34.5</td>\n",
       "      <td>330911</td>\n",
       "      <td>7.8292</td>\n",
       "      <td>NaN</td>\n",
       "      <td>Q</td>\n",
       "      <td>0</td>\n",
       "    </tr>\n",
       "    <tr>\n",
       "      <th>1</th>\n",
       "      <td>893</td>\n",
       "      <td>1</td>\n",
       "      <td>3</td>\n",
       "      <td>Wilkes, Mrs. James (Ellen Needs)</td>\n",
       "      <td>female</td>\n",
       "      <td>47.0</td>\n",
       "      <td>363272</td>\n",
       "      <td>7.0000</td>\n",
       "      <td>NaN</td>\n",
       "      <td>S</td>\n",
       "      <td>1</td>\n",
       "    </tr>\n",
       "    <tr>\n",
       "      <th>2</th>\n",
       "      <td>894</td>\n",
       "      <td>0</td>\n",
       "      <td>2</td>\n",
       "      <td>Myles, Mr. Thomas Francis</td>\n",
       "      <td>male</td>\n",
       "      <td>62.0</td>\n",
       "      <td>240276</td>\n",
       "      <td>9.6875</td>\n",
       "      <td>NaN</td>\n",
       "      <td>Q</td>\n",
       "      <td>0</td>\n",
       "    </tr>\n",
       "    <tr>\n",
       "      <th>3</th>\n",
       "      <td>895</td>\n",
       "      <td>0</td>\n",
       "      <td>3</td>\n",
       "      <td>Wirz, Mr. Albert</td>\n",
       "      <td>male</td>\n",
       "      <td>27.0</td>\n",
       "      <td>315154</td>\n",
       "      <td>8.6625</td>\n",
       "      <td>NaN</td>\n",
       "      <td>S</td>\n",
       "      <td>0</td>\n",
       "    </tr>\n",
       "    <tr>\n",
       "      <th>4</th>\n",
       "      <td>896</td>\n",
       "      <td>1</td>\n",
       "      <td>3</td>\n",
       "      <td>Hirvonen, Mrs. Alexander (Helga E Lindqvist)</td>\n",
       "      <td>female</td>\n",
       "      <td>22.0</td>\n",
       "      <td>3101298</td>\n",
       "      <td>12.2875</td>\n",
       "      <td>NaN</td>\n",
       "      <td>S</td>\n",
       "      <td>2</td>\n",
       "    </tr>\n",
       "  </tbody>\n",
       "</table>\n",
       "</div>"
      ],
      "text/plain": [
       "   PassengerId  Survived  Pclass  \\\n",
       "0          892         0       3   \n",
       "1          893         1       3   \n",
       "2          894         0       2   \n",
       "3          895         0       3   \n",
       "4          896         1       3   \n",
       "\n",
       "                                           Name     Sex   Age   Ticket  \\\n",
       "0                              Kelly, Mr. James    male  34.5   330911   \n",
       "1              Wilkes, Mrs. James (Ellen Needs)  female  47.0   363272   \n",
       "2                     Myles, Mr. Thomas Francis    male  62.0   240276   \n",
       "3                              Wirz, Mr. Albert    male  27.0   315154   \n",
       "4  Hirvonen, Mrs. Alexander (Helga E Lindqvist)  female  22.0  3101298   \n",
       "\n",
       "      Fare Cabin Embarked  family  \n",
       "0   7.8292   NaN        Q       0  \n",
       "1   7.0000   NaN        S       1  \n",
       "2   9.6875   NaN        Q       0  \n",
       "3   8.6625   NaN        S       0  \n",
       "4  12.2875   NaN        S       2  "
      ]
     },
     "execution_count": 35,
     "metadata": {},
     "output_type": "execute_result"
    }
   ],
   "source": [
    "data.head()"
   ]
  },
  {
   "cell_type": "code",
   "execution_count": 36,
   "id": "20702b40-55ba-4b3a-98ed-e82fe4bdd207",
   "metadata": {},
   "outputs": [],
   "source": [
    "data = data[['Age','Fare','Survived']]"
   ]
  },
  {
   "cell_type": "code",
   "execution_count": 39,
   "id": "81046577-9b7d-4594-be28-59dca52eb8d1",
   "metadata": {},
   "outputs": [
    {
     "data": {
      "text/plain": [
       "(418, 3)"
      ]
     },
     "execution_count": 39,
     "metadata": {},
     "output_type": "execute_result"
    }
   ],
   "source": [
    "data.shape"
   ]
  },
  {
   "cell_type": "code",
   "execution_count": 40,
   "id": "8b2eb0cf-57d2-4d6b-8653-bc6ed7b25729",
   "metadata": {},
   "outputs": [],
   "source": [
    "data.dropna(inplace=True)"
   ]
  },
  {
   "cell_type": "code",
   "execution_count": 41,
   "id": "5e9fe4f5-e446-4b7e-b7ba-86214b5617d3",
   "metadata": {},
   "outputs": [
    {
     "data": {
      "text/html": [
       "<div>\n",
       "<style scoped>\n",
       "    .dataframe tbody tr th:only-of-type {\n",
       "        vertical-align: middle;\n",
       "    }\n",
       "\n",
       "    .dataframe tbody tr th {\n",
       "        vertical-align: top;\n",
       "    }\n",
       "\n",
       "    .dataframe thead th {\n",
       "        text-align: right;\n",
       "    }\n",
       "</style>\n",
       "<table border=\"1\" class=\"dataframe\">\n",
       "  <thead>\n",
       "    <tr style=\"text-align: right;\">\n",
       "      <th></th>\n",
       "      <th>Age</th>\n",
       "      <th>Fare</th>\n",
       "      <th>Survived</th>\n",
       "    </tr>\n",
       "  </thead>\n",
       "  <tbody>\n",
       "    <tr>\n",
       "      <th>0</th>\n",
       "      <td>34.5</td>\n",
       "      <td>7.8292</td>\n",
       "      <td>0</td>\n",
       "    </tr>\n",
       "    <tr>\n",
       "      <th>1</th>\n",
       "      <td>47.0</td>\n",
       "      <td>7.0000</td>\n",
       "      <td>1</td>\n",
       "    </tr>\n",
       "    <tr>\n",
       "      <th>2</th>\n",
       "      <td>62.0</td>\n",
       "      <td>9.6875</td>\n",
       "      <td>0</td>\n",
       "    </tr>\n",
       "    <tr>\n",
       "      <th>3</th>\n",
       "      <td>27.0</td>\n",
       "      <td>8.6625</td>\n",
       "      <td>0</td>\n",
       "    </tr>\n",
       "    <tr>\n",
       "      <th>4</th>\n",
       "      <td>22.0</td>\n",
       "      <td>12.2875</td>\n",
       "      <td>1</td>\n",
       "    </tr>\n",
       "  </tbody>\n",
       "</table>\n",
       "</div>"
      ],
      "text/plain": [
       "    Age     Fare  Survived\n",
       "0  34.5   7.8292         0\n",
       "1  47.0   7.0000         1\n",
       "2  62.0   9.6875         0\n",
       "3  27.0   8.6625         0\n",
       "4  22.0  12.2875         1"
      ]
     },
     "execution_count": 41,
     "metadata": {},
     "output_type": "execute_result"
    }
   ],
   "source": [
    "data.head()"
   ]
  },
  {
   "cell_type": "code",
   "execution_count": 42,
   "id": "42f21077-86d1-416b-9852-4c4f02841490",
   "metadata": {},
   "outputs": [],
   "source": [
    "x= data[['Age','Fare']]\n",
    "y=data['Survived']"
   ]
  },
  {
   "cell_type": "code",
   "execution_count": 43,
   "id": "c452cd2c-caa5-4767-aa17-d00ea008e636",
   "metadata": {},
   "outputs": [
    {
     "data": {
      "text/plain": [
       "0      0\n",
       "1      1\n",
       "2      0\n",
       "3      0\n",
       "4      1\n",
       "      ..\n",
       "409    1\n",
       "411    1\n",
       "412    1\n",
       "414    1\n",
       "415    0\n",
       "Name: Survived, Length: 331, dtype: int64"
      ]
     },
     "execution_count": 43,
     "metadata": {},
     "output_type": "execute_result"
    }
   ],
   "source": [
    "y"
   ]
  },
  {
   "cell_type": "markdown",
   "id": "4d40c2f3-b3f0-4d6c-9501-820860797239",
   "metadata": {},
   "source": [
    "# Train test split"
   ]
  },
  {
   "cell_type": "code",
   "execution_count": 44,
   "id": "9dc47f67-8ee5-4ec5-ab5a-1dcd02a854dc",
   "metadata": {},
   "outputs": [],
   "source": [
    "from sklearn.model_selection import train_test_split\n",
    "x_train,x_test,y_train,y_test = train_test_split(x,y,test_size=0.3,random_state=0)"
   ]
  },
  {
   "cell_type": "markdown",
   "id": "75c6cb05-df78-43c4-8252-9f792e4ce0e1",
   "metadata": {},
   "source": [
    "# Standrad Scaler"
   ]
  },
  {
   "cell_type": "code",
   "execution_count": 45,
   "id": "7696786b-a5ad-4216-bd10-44823d6fe1be",
   "metadata": {},
   "outputs": [],
   "source": [
    "from sklearn.preprocessing import StandardScaler\n",
    "scaler = StandardScaler()"
   ]
  },
  {
   "cell_type": "code",
   "execution_count": 46,
   "id": "9e749b86-922d-4580-9f28-2bc755ab300c",
   "metadata": {},
   "outputs": [
    {
     "data": {
      "text/html": [
       "<style>#sk-container-id-3 {color: black;}#sk-container-id-3 pre{padding: 0;}#sk-container-id-3 div.sk-toggleable {background-color: white;}#sk-container-id-3 label.sk-toggleable__label {cursor: pointer;display: block;width: 100%;margin-bottom: 0;padding: 0.3em;box-sizing: border-box;text-align: center;}#sk-container-id-3 label.sk-toggleable__label-arrow:before {content: \"▸\";float: left;margin-right: 0.25em;color: #696969;}#sk-container-id-3 label.sk-toggleable__label-arrow:hover:before {color: black;}#sk-container-id-3 div.sk-estimator:hover label.sk-toggleable__label-arrow:before {color: black;}#sk-container-id-3 div.sk-toggleable__content {max-height: 0;max-width: 0;overflow: hidden;text-align: left;background-color: #f0f8ff;}#sk-container-id-3 div.sk-toggleable__content pre {margin: 0.2em;color: black;border-radius: 0.25em;background-color: #f0f8ff;}#sk-container-id-3 input.sk-toggleable__control:checked~div.sk-toggleable__content {max-height: 200px;max-width: 100%;overflow: auto;}#sk-container-id-3 input.sk-toggleable__control:checked~label.sk-toggleable__label-arrow:before {content: \"▾\";}#sk-container-id-3 div.sk-estimator input.sk-toggleable__control:checked~label.sk-toggleable__label {background-color: #d4ebff;}#sk-container-id-3 div.sk-label input.sk-toggleable__control:checked~label.sk-toggleable__label {background-color: #d4ebff;}#sk-container-id-3 input.sk-hidden--visually {border: 0;clip: rect(1px 1px 1px 1px);clip: rect(1px, 1px, 1px, 1px);height: 1px;margin: -1px;overflow: hidden;padding: 0;position: absolute;width: 1px;}#sk-container-id-3 div.sk-estimator {font-family: monospace;background-color: #f0f8ff;border: 1px dotted black;border-radius: 0.25em;box-sizing: border-box;margin-bottom: 0.5em;}#sk-container-id-3 div.sk-estimator:hover {background-color: #d4ebff;}#sk-container-id-3 div.sk-parallel-item::after {content: \"\";width: 100%;border-bottom: 1px solid gray;flex-grow: 1;}#sk-container-id-3 div.sk-label:hover label.sk-toggleable__label {background-color: #d4ebff;}#sk-container-id-3 div.sk-serial::before {content: \"\";position: absolute;border-left: 1px solid gray;box-sizing: border-box;top: 0;bottom: 0;left: 50%;z-index: 0;}#sk-container-id-3 div.sk-serial {display: flex;flex-direction: column;align-items: center;background-color: white;padding-right: 0.2em;padding-left: 0.2em;position: relative;}#sk-container-id-3 div.sk-item {position: relative;z-index: 1;}#sk-container-id-3 div.sk-parallel {display: flex;align-items: stretch;justify-content: center;background-color: white;position: relative;}#sk-container-id-3 div.sk-item::before, #sk-container-id-3 div.sk-parallel-item::before {content: \"\";position: absolute;border-left: 1px solid gray;box-sizing: border-box;top: 0;bottom: 0;left: 50%;z-index: -1;}#sk-container-id-3 div.sk-parallel-item {display: flex;flex-direction: column;z-index: 1;position: relative;background-color: white;}#sk-container-id-3 div.sk-parallel-item:first-child::after {align-self: flex-end;width: 50%;}#sk-container-id-3 div.sk-parallel-item:last-child::after {align-self: flex-start;width: 50%;}#sk-container-id-3 div.sk-parallel-item:only-child::after {width: 0;}#sk-container-id-3 div.sk-dashed-wrapped {border: 1px dashed gray;margin: 0 0.4em 0.5em 0.4em;box-sizing: border-box;padding-bottom: 0.4em;background-color: white;}#sk-container-id-3 div.sk-label label {font-family: monospace;font-weight: bold;display: inline-block;line-height: 1.2em;}#sk-container-id-3 div.sk-label-container {text-align: center;}#sk-container-id-3 div.sk-container {/* jupyter's `normalize.less` sets `[hidden] { display: none; }` but bootstrap.min.css set `[hidden] { display: none !important; }` so we also need the `!important` here to be able to override the default hidden behavior on the sphinx rendered scikit-learn.org. See: https://github.com/scikit-learn/scikit-learn/issues/21755 */display: inline-block !important;position: relative;}#sk-container-id-3 div.sk-text-repr-fallback {display: none;}</style><div id=\"sk-container-id-3\" class=\"sk-top-container\"><div class=\"sk-text-repr-fallback\"><pre>StandardScaler()</pre><b>In a Jupyter environment, please rerun this cell to show the HTML representation or trust the notebook. <br />On GitHub, the HTML representation is unable to render, please try loading this page with nbviewer.org.</b></div><div class=\"sk-container\" hidden><div class=\"sk-item\"><div class=\"sk-estimator sk-toggleable\"><input class=\"sk-toggleable__control sk-hidden--visually\" id=\"sk-estimator-id-3\" type=\"checkbox\" checked><label for=\"sk-estimator-id-3\" class=\"sk-toggleable__label sk-toggleable__label-arrow\">StandardScaler</label><div class=\"sk-toggleable__content\"><pre>StandardScaler()</pre></div></div></div></div></div>"
      ],
      "text/plain": [
       "StandardScaler()"
      ]
     },
     "execution_count": 46,
     "metadata": {},
     "output_type": "execute_result"
    }
   ],
   "source": [
    "# alwase keep in mind we run fit on just train data\n",
    "scaler.fit(x_train)"
   ]
  },
  {
   "cell_type": "code",
   "execution_count": 47,
   "id": "ff1eab4e-a5d9-45ab-8e9e-efca7d53c1ec",
   "metadata": {},
   "outputs": [],
   "source": [
    "# and we transform on both train and test data\n",
    "x_train_scaled = scaler.transform(x_train)\n",
    "x_test_scaled = scaler.transform(x_test)"
   ]
  },
  {
   "cell_type": "code",
   "execution_count": 48,
   "id": "cd56110e-8266-4f44-a289-e8403082a18c",
   "metadata": {},
   "outputs": [
    {
     "data": {
      "text/plain": [
       "array([29.37337662, 35.59491385])"
      ]
     },
     "execution_count": 48,
     "metadata": {},
     "output_type": "execute_result"
    }
   ],
   "source": [
    "scaler.mean_"
   ]
  },
  {
   "cell_type": "code",
   "execution_count": 49,
   "id": "5e79e2ba-6f18-4d69-840e-bf1355b6b586",
   "metadata": {},
   "outputs": [
    {
     "data": {
      "text/plain": [
       "array([[ 2.51106164,  0.9887786 ],\n",
       "       [-1.98506898, -0.26183126],\n",
       "       [-1.91255074, -0.45360656],\n",
       "       [-0.82477721,  0.5073488 ],\n",
       "       [-0.46218603, -0.45100798],\n",
       "       [ 0.04544162,  2.41054974],\n",
       "       [ 0.26299633, -0.31224374],\n",
       "       [-0.17211309, -0.58977222],\n",
       "       [-1.47744133, -0.67405356],\n",
       "       [-1.40492309, -0.13450078],\n",
       "       [-0.24463132,  2.10348474],\n",
       "       [ 0.19047809, -0.58240888],\n",
       "       [-1.47744133, -0.42303061],\n",
       "       [ 0.84314221, -0.42718834],\n",
       "       [ 0.77062398, -0.46971776],\n",
       "       [ 1.49580634, -0.19946531],\n",
       "       [ 0.69810574, -0.1225473 ],\n",
       "       [-0.82477721, -0.02536036],\n",
       "       [ 1.71336104,  0.96175336],\n",
       "       [ 1.85839752,  0.2994623 ],\n",
       "       [ 1.13321516,  0.35256067],\n",
       "       [-0.24463132, -0.57617228],\n",
       "       [-1.18736839,  4.71445191],\n",
       "       [-2.05758721,  0.12440523],\n",
       "       [-0.31714956, -0.08512773],\n",
       "       [-1.69499604,  2.05610325],\n",
       "       [-0.09959485, -0.52168939],\n",
       "       [ 1.78587928,  0.96175336],\n",
       "       [-0.67974074, -0.57522016],\n",
       "       [ 0.84314221, -0.57677931],\n",
       "       [-0.46218603, -0.57790606],\n",
       "       [-0.89729544,  0.78799558],\n",
       "       [-0.17211309, -0.576692  ],\n",
       "       [ 0.48055104, -0.46971776],\n",
       "       [-0.67974074, -0.26183126],\n",
       "       [-0.82477721, -0.57833846],\n",
       "       [-0.24463132, -0.45932344],\n",
       "       [-2.06991531, -0.54559634],\n",
       "       [ 0.77062398,  0.23501748],\n",
       "       [ 2.00343399,  2.30599946],\n",
       "       [-0.67974074, -0.58977222],\n",
       "       [ 1.13321516, -0.58977222],\n",
       "       [ 0.98817869, -0.30340856],\n",
       "       [-0.02707661, -0.57522016],\n",
       "       [-0.17211309, -0.57617228],\n",
       "       [-0.53470426, -0.52168939],\n",
       "       [-0.31714956, -0.52168939],\n",
       "       [ 0.11795986, -0.57920535],\n",
       "       [ 2.29350693, -0.48323039],\n",
       "       [-2.06338867, -0.16308517],\n",
       "       [-0.17211309, -0.19946531],\n",
       "       [-0.46218603, -0.59341023],\n",
       "       [-0.53470426, -0.57262158],\n",
       "       [-1.54995956, -0.19946531],\n",
       "       [-0.46218603,  1.20376859],\n",
       "       [-0.46218603, -0.57262158],\n",
       "       [ 0.04544162,  0.20591337],\n",
       "       [-1.29614574, -0.43853479],\n",
       "       [-0.6072225 , -0.58977222],\n",
       "       [-0.17211309,  0.3410396 ],\n",
       "       [-0.24463132, -0.46971776],\n",
       "       [-0.53470426, -0.52168939],\n",
       "       [-0.17211309,  2.10348474],\n",
       "       [-0.67974074,  0.02401268],\n",
       "       [-0.53470426, -0.48452968],\n",
       "       [-0.02707661, -0.19946531],\n",
       "       [ 0.51681015, -0.3782477 ],\n",
       "       [-0.02707661, -0.57522016],\n",
       "       [-0.38966779, -0.57885818],\n",
       "       [-1.54995956, -0.06433908],\n",
       "       [ 1.49580634,  3.65682933],\n",
       "       [-0.75225897, -0.52168939],\n",
       "       [-0.82477721, -0.46971776],\n",
       "       [-1.69499604, -0.30184941],\n",
       "       [ 2.22098869,  0.84603126],\n",
       "       [ 0.19047809, -0.57833846],\n",
       "       [ 1.27825163,  0.53177547],\n",
       "       [-0.38966779, -0.576692  ],\n",
       "       [ 1.49580634, -0.19946531],\n",
       "       [-0.17211309, -0.55988853],\n",
       "       [ 0.91566045, -0.06433908],\n",
       "       [-0.46218603, -0.576692  ],\n",
       "       [-0.53470426,  0.5484937 ],\n",
       "       [ 0.04544162,  0.46057434],\n",
       "       [-0.31714956, -0.57790606],\n",
       "       [-0.6072225 , -0.6049313 ],\n",
       "       [ 2.00343399, -0.46971776],\n",
       "       [-0.38966779, -0.55988853],\n",
       "       [ 0.98817869, -0.1636922 ],\n",
       "       [ 1.85839752,  0.49487561],\n",
       "       [ 2.14847046,  0.33021287],\n",
       "       [-1.07859103,  0.70588041],\n",
       "       [-1.11485015,  0.61129205],\n",
       "       [ 0.62558751, -0.30340856],\n",
       "       [-0.67974074, -0.576692  ],\n",
       "       [ 0.19047809, -0.45932344],\n",
       "       [ 2.36602517, -0.53858017],\n",
       "       [-0.46218603,  0.97024344],\n",
       "       [ 0.19047809, -0.57262158],\n",
       "       [-0.38966779,  0.97024344],\n",
       "       [-0.09959485, -0.27170587],\n",
       "       [ 1.20573339, -0.19946531],\n",
       "       [-0.82477721, -0.55988853],\n",
       "       [ 1.35076987,  0.90649089],\n",
       "       [ 2.22098869,  4.72744482],\n",
       "       [ 0.48055104, -0.40943068],\n",
       "       [-0.38966779, -0.1636922 ],\n",
       "       [ 0.26299633, -0.576692  ],\n",
       "       [-0.89729544, -0.57582719],\n",
       "       [-2.05758721, -0.48669585],\n",
       "       [-0.6072225 , -0.46971776],\n",
       "       [ 1.27825163, -0.52168939],\n",
       "       [-0.24463132, -0.46971776],\n",
       "       [-0.46218603, -0.52168939],\n",
       "       [-0.38966779, -0.58301591],\n",
       "       [-0.53470426, -0.08512773],\n",
       "       [-0.06333573, -0.1636922 ],\n",
       "       [ 2.51106164, -0.18803155],\n",
       "       [ 0.62558751, -0.58968491],\n",
       "       [ 0.84314221, -0.46971776],\n",
       "       [ 2.51106164,  0.82437572],\n",
       "       [ 1.49580634, -0.43853479],\n",
       "       [-0.24463132, -0.57582719],\n",
       "       [-0.67974074, -0.576692  ],\n",
       "       [-0.17211309, -0.4274482 ],\n",
       "       [ 2.29350693,  4.71445191],\n",
       "       [-1.04233191,  0.07078715],\n",
       "       [-1.76751427, -0.08746646],\n",
       "       [ 0.19047809, -0.46971776],\n",
       "       [-0.38966779, -0.54611605],\n",
       "       [-0.89729544, -0.57262158],\n",
       "       [-0.02707661, -0.576692  ],\n",
       "       [-1.40492309,  0.23501748],\n",
       "       [-0.6072225 , -0.57833846],\n",
       "       [-0.89729544,  0.23917521],\n",
       "       [ 0.4080328 ,  0.46057434],\n",
       "       [-0.75225897, -0.41272152],\n",
       "       [-0.82477721, -0.43948691],\n",
       "       [ 0.26299633, -0.18803155],\n",
       "       [-0.31714956, -0.52168939],\n",
       "       [ 0.04544162, -0.46971776],\n",
       "       [ 1.71336104, -0.16940908],\n",
       "       [ 0.26299633,  2.41054974],\n",
       "       [ 0.37177368, -0.57721172],\n",
       "       [-2.05758721, -0.39279976],\n",
       "       [-0.38966779,  0.61129205],\n",
       "       [ 0.48055104,  0.82420317],\n",
       "       [ 0.55306927,  1.13100831],\n",
       "       [-0.31714956,  0.4125879 ],\n",
       "       [ 2.22098869, -0.19946531],\n",
       "       [ 2.72861634,  3.87052002],\n",
       "       [ 0.48055104,  4.71445191],\n",
       "       [-0.31714956, -0.58093704],\n",
       "       [-0.96981368, -0.56291952],\n",
       "       [-0.09959485, -0.57833846],\n",
       "       [ 0.48055104,  0.07078715],\n",
       "       [-0.6072225 , -0.576692  ],\n",
       "       [ 0.48055104, -0.54247804],\n",
       "       [-0.6072225 , -0.30340856],\n",
       "       [ 0.04544162, -0.46971776],\n",
       "       [ 0.8068831 , -0.4260616 ],\n",
       "       [-0.24463132, -0.28210019],\n",
       "       [ 1.4232881 , -0.73997022],\n",
       "       [ 0.69810574,  1.5239138 ],\n",
       "       [-0.17211309, -0.57582719],\n",
       "       [-0.09959485, -0.57262158],\n",
       "       [-0.24463132, -0.57833846],\n",
       "       [ 0.48055104, -0.48669585],\n",
       "       [ 0.04544162, -0.4167067 ],\n",
       "       [-0.75225897, -0.40527295],\n",
       "       [-0.78851809, -0.58856024],\n",
       "       [ 0.98817869,  0.4125879 ],\n",
       "       [-0.82477721, -0.52168939],\n",
       "       [ 0.04544162, -0.19946531],\n",
       "       [ 0.11795986, -0.14671411],\n",
       "       [-0.02707661, -0.19946531],\n",
       "       [-0.6072225 , -0.50090074],\n",
       "       [-0.38966779,  0.5073488 ],\n",
       "       [ 1.71336104, -0.14749368],\n",
       "       [-0.38966779, -0.45932344],\n",
       "       [ 1.13321516,  0.49487561],\n",
       "       [-0.31714956, -0.57522016],\n",
       "       [-0.53470426, -0.57937789],\n",
       "       [-0.38966779,  0.02929716],\n",
       "       [-1.6224778 , -0.42303061],\n",
       "       [-0.38966779, -0.08512773],\n",
       "       [-0.6072225 , -0.18803155],\n",
       "       [ 0.4080328 , -0.57885818],\n",
       "       [ 0.33551456, -0.19946531],\n",
       "       [-0.89729544, -0.57920535],\n",
       "       [ 0.22673721, -0.54247804],\n",
       "       [-0.78851809, -0.58968491],\n",
       "       [-0.6072225 , -0.55988853],\n",
       "       [-0.24463132, -0.45360656],\n",
       "       [ 0.69810574,  0.74191338],\n",
       "       [-0.6072225 , -0.57885818],\n",
       "       [-0.53470426,  0.08507934],\n",
       "       [-0.6072225 , -0.50090074],\n",
       "       [ 0.77062398, -0.40735181],\n",
       "       [ 0.11795986, -0.30340856],\n",
       "       [-0.38966779, -0.57833846],\n",
       "       [-0.6072225 , -0.57790606],\n",
       "       [-0.09959485, -0.5892525 ],\n",
       "       [-0.02707661, -0.19946531],\n",
       "       [ 1.85839752,  2.07966303],\n",
       "       [-0.09959485, -0.19946531],\n",
       "       [ 0.69810574, -0.58968491],\n",
       "       [-0.82477721, -0.57262158],\n",
       "       [-0.49844515, -0.58977222],\n",
       "       [ 0.26299633, -0.1636922 ],\n",
       "       [-0.53470426, -0.57833846],\n",
       "       [ 0.04544162, -0.45187486],\n",
       "       [ 0.04544162,  2.68738596],\n",
       "       [ 1.13321516, -0.1225473 ],\n",
       "       [ 1.13321516,  2.05610325],\n",
       "       [-0.38966779, -0.5892525 ],\n",
       "       [-0.78851809, -0.46971776],\n",
       "       [ 1.4232881 , -0.19946531],\n",
       "       [-0.6072225 , -0.57738634],\n",
       "       [ 0.11795986,  2.05610325],\n",
       "       [ 0.55306927, -0.57885818],\n",
       "       [-0.82477721,  0.78799558],\n",
       "       [-0.89729544, -0.55988853],\n",
       "       [-0.6072225 , -0.23792431],\n",
       "       [-0.53470426, -0.30340856],\n",
       "       [-0.24463132, -0.46971776],\n",
       "       [-0.67974074, -0.45178755],\n",
       "       [ 1.13321516, -0.11631071],\n",
       "       [ 0.11795986, -0.36577451],\n",
       "       [ 0.4080328 , -0.57582719],\n",
       "       [ 2.00343399,  2.68738596]])"
      ]
     },
     "execution_count": 49,
     "metadata": {},
     "output_type": "execute_result"
    }
   ],
   "source": [
    "x_train_scaled"
   ]
  },
  {
   "cell_type": "markdown",
   "id": "36a5a10d-ded2-42eb-b3d0-7706f2803f58",
   "metadata": {},
   "source": [
    "### now you can see there is problem with standred scaler it takes data frame but it returns a numpy array so its solution is fowling"
   ]
  },
  {
   "cell_type": "code",
   "execution_count": 50,
   "id": "8bf7d1fe-45c5-4e2a-9463-0b57a8c016eb",
   "metadata": {},
   "outputs": [],
   "source": [
    "x_train_scaled = pd.DataFrame(x_train_scaled,columns=x_train.columns)\n",
    "x_test_scaled = pd.DataFrame(x_test_scaled,columns=x_train.columns)"
   ]
  },
  {
   "cell_type": "code",
   "execution_count": 51,
   "id": "b1b2d612-4b43-4ddc-82b9-6edad929ffbc",
   "metadata": {},
   "outputs": [
    {
     "data": {
      "text/html": [
       "<div>\n",
       "<style scoped>\n",
       "    .dataframe tbody tr th:only-of-type {\n",
       "        vertical-align: middle;\n",
       "    }\n",
       "\n",
       "    .dataframe tbody tr th {\n",
       "        vertical-align: top;\n",
       "    }\n",
       "\n",
       "    .dataframe thead th {\n",
       "        text-align: right;\n",
       "    }\n",
       "</style>\n",
       "<table border=\"1\" class=\"dataframe\">\n",
       "  <thead>\n",
       "    <tr style=\"text-align: right;\">\n",
       "      <th></th>\n",
       "      <th>Age</th>\n",
       "      <th>Fare</th>\n",
       "    </tr>\n",
       "  </thead>\n",
       "  <tbody>\n",
       "    <tr>\n",
       "      <th>0</th>\n",
       "      <td>2.511062</td>\n",
       "      <td>0.988779</td>\n",
       "    </tr>\n",
       "    <tr>\n",
       "      <th>1</th>\n",
       "      <td>-1.985069</td>\n",
       "      <td>-0.261831</td>\n",
       "    </tr>\n",
       "    <tr>\n",
       "      <th>2</th>\n",
       "      <td>-1.912551</td>\n",
       "      <td>-0.453607</td>\n",
       "    </tr>\n",
       "    <tr>\n",
       "      <th>3</th>\n",
       "      <td>-0.824777</td>\n",
       "      <td>0.507349</td>\n",
       "    </tr>\n",
       "    <tr>\n",
       "      <th>4</th>\n",
       "      <td>-0.462186</td>\n",
       "      <td>-0.451008</td>\n",
       "    </tr>\n",
       "    <tr>\n",
       "      <th>...</th>\n",
       "      <td>...</td>\n",
       "      <td>...</td>\n",
       "    </tr>\n",
       "    <tr>\n",
       "      <th>226</th>\n",
       "      <td>-0.679741</td>\n",
       "      <td>-0.451788</td>\n",
       "    </tr>\n",
       "    <tr>\n",
       "      <th>227</th>\n",
       "      <td>1.133215</td>\n",
       "      <td>-0.116311</td>\n",
       "    </tr>\n",
       "    <tr>\n",
       "      <th>228</th>\n",
       "      <td>0.117960</td>\n",
       "      <td>-0.365775</td>\n",
       "    </tr>\n",
       "    <tr>\n",
       "      <th>229</th>\n",
       "      <td>0.408033</td>\n",
       "      <td>-0.575827</td>\n",
       "    </tr>\n",
       "    <tr>\n",
       "      <th>230</th>\n",
       "      <td>2.003434</td>\n",
       "      <td>2.687386</td>\n",
       "    </tr>\n",
       "  </tbody>\n",
       "</table>\n",
       "<p>231 rows × 2 columns</p>\n",
       "</div>"
      ],
      "text/plain": [
       "          Age      Fare\n",
       "0    2.511062  0.988779\n",
       "1   -1.985069 -0.261831\n",
       "2   -1.912551 -0.453607\n",
       "3   -0.824777  0.507349\n",
       "4   -0.462186 -0.451008\n",
       "..        ...       ...\n",
       "226 -0.679741 -0.451788\n",
       "227  1.133215 -0.116311\n",
       "228  0.117960 -0.365775\n",
       "229  0.408033 -0.575827\n",
       "230  2.003434  2.687386\n",
       "\n",
       "[231 rows x 2 columns]"
      ]
     },
     "execution_count": 51,
     "metadata": {},
     "output_type": "execute_result"
    }
   ],
   "source": [
    "x_train_scaled"
   ]
  },
  {
   "cell_type": "code",
   "execution_count": 52,
   "id": "3c256078-2fa5-47fb-b325-d490f87de7a1",
   "metadata": {},
   "outputs": [
    {
     "data": {
      "text/html": [
       "<div>\n",
       "<style scoped>\n",
       "    .dataframe tbody tr th:only-of-type {\n",
       "        vertical-align: middle;\n",
       "    }\n",
       "\n",
       "    .dataframe tbody tr th {\n",
       "        vertical-align: top;\n",
       "    }\n",
       "\n",
       "    .dataframe thead th {\n",
       "        text-align: right;\n",
       "    }\n",
       "</style>\n",
       "<table border=\"1\" class=\"dataframe\">\n",
       "  <thead>\n",
       "    <tr style=\"text-align: right;\">\n",
       "      <th></th>\n",
       "      <th>Age</th>\n",
       "      <th>Fare</th>\n",
       "    </tr>\n",
       "  </thead>\n",
       "  <tbody>\n",
       "    <tr>\n",
       "      <th>count</th>\n",
       "      <td>231.000000</td>\n",
       "      <td>231.000000</td>\n",
       "    </tr>\n",
       "    <tr>\n",
       "      <th>mean</th>\n",
       "      <td>29.373377</td>\n",
       "      <td>35.594914</td>\n",
       "    </tr>\n",
       "    <tr>\n",
       "      <th>std</th>\n",
       "      <td>13.819580</td>\n",
       "      <td>48.207630</td>\n",
       "    </tr>\n",
       "    <tr>\n",
       "      <th>min</th>\n",
       "      <td>0.830000</td>\n",
       "      <td>0.000000</td>\n",
       "    </tr>\n",
       "    <tr>\n",
       "      <th>25%</th>\n",
       "      <td>21.000000</td>\n",
       "      <td>8.050000</td>\n",
       "    </tr>\n",
       "    <tr>\n",
       "      <th>50%</th>\n",
       "      <td>27.000000</td>\n",
       "      <td>15.245800</td>\n",
       "    </tr>\n",
       "    <tr>\n",
       "      <th>75%</th>\n",
       "      <td>36.000000</td>\n",
       "      <td>36.877100</td>\n",
       "    </tr>\n",
       "    <tr>\n",
       "      <th>max</th>\n",
       "      <td>67.000000</td>\n",
       "      <td>263.000000</td>\n",
       "    </tr>\n",
       "  </tbody>\n",
       "</table>\n",
       "</div>"
      ],
      "text/plain": [
       "              Age        Fare\n",
       "count  231.000000  231.000000\n",
       "mean    29.373377   35.594914\n",
       "std     13.819580   48.207630\n",
       "min      0.830000    0.000000\n",
       "25%     21.000000    8.050000\n",
       "50%     27.000000   15.245800\n",
       "75%     36.000000   36.877100\n",
       "max     67.000000  263.000000"
      ]
     },
     "execution_count": 52,
     "metadata": {},
     "output_type": "execute_result"
    }
   ],
   "source": [
    "#orignal x_train\n",
    "x_train.describe()"
   ]
  },
  {
   "cell_type": "code",
   "execution_count": 55,
   "id": "72a6c07e-3af7-4788-8568-efe3d1eed24a",
   "metadata": {},
   "outputs": [
    {
     "data": {
      "text/html": [
       "<div>\n",
       "<style scoped>\n",
       "    .dataframe tbody tr th:only-of-type {\n",
       "        vertical-align: middle;\n",
       "    }\n",
       "\n",
       "    .dataframe tbody tr th {\n",
       "        vertical-align: top;\n",
       "    }\n",
       "\n",
       "    .dataframe thead th {\n",
       "        text-align: right;\n",
       "    }\n",
       "</style>\n",
       "<table border=\"1\" class=\"dataframe\">\n",
       "  <thead>\n",
       "    <tr style=\"text-align: right;\">\n",
       "      <th></th>\n",
       "      <th>Age</th>\n",
       "      <th>Fare</th>\n",
       "    </tr>\n",
       "  </thead>\n",
       "  <tbody>\n",
       "    <tr>\n",
       "      <th>count</th>\n",
       "      <td>231.0</td>\n",
       "      <td>231.0</td>\n",
       "    </tr>\n",
       "    <tr>\n",
       "      <th>mean</th>\n",
       "      <td>0.0</td>\n",
       "      <td>0.0</td>\n",
       "    </tr>\n",
       "    <tr>\n",
       "      <th>std</th>\n",
       "      <td>1.0</td>\n",
       "      <td>1.0</td>\n",
       "    </tr>\n",
       "    <tr>\n",
       "      <th>min</th>\n",
       "      <td>-2.1</td>\n",
       "      <td>-0.7</td>\n",
       "    </tr>\n",
       "    <tr>\n",
       "      <th>25%</th>\n",
       "      <td>-0.6</td>\n",
       "      <td>-0.6</td>\n",
       "    </tr>\n",
       "    <tr>\n",
       "      <th>50%</th>\n",
       "      <td>-0.2</td>\n",
       "      <td>-0.4</td>\n",
       "    </tr>\n",
       "    <tr>\n",
       "      <th>75%</th>\n",
       "      <td>0.5</td>\n",
       "      <td>0.0</td>\n",
       "    </tr>\n",
       "    <tr>\n",
       "      <th>max</th>\n",
       "      <td>2.7</td>\n",
       "      <td>4.7</td>\n",
       "    </tr>\n",
       "  </tbody>\n",
       "</table>\n",
       "</div>"
      ],
      "text/plain": [
       "         Age   Fare\n",
       "count  231.0  231.0\n",
       "mean     0.0    0.0\n",
       "std      1.0    1.0\n",
       "min     -2.1   -0.7\n",
       "25%     -0.6   -0.6\n",
       "50%     -0.2   -0.4\n",
       "75%      0.5    0.0\n",
       "max      2.7    4.7"
      ]
     },
     "execution_count": 55,
     "metadata": {},
     "output_type": "execute_result"
    }
   ],
   "source": [
    "#after applying scalling\n",
    "np.round(x_train_scaled.describe(),1)"
   ]
  },
  {
   "cell_type": "markdown",
   "id": "d2dd1fc4-3d0b-47ad-bbef-26dd8bf93482",
   "metadata": {},
   "source": [
    "## effects of scalling"
   ]
  },
  {
   "cell_type": "code",
   "execution_count": 62,
   "id": "9b88fe61-65e6-41d4-beda-ead93ca953b1",
   "metadata": {},
   "outputs": [
    {
     "data": {
      "image/png": "[encoded data removed]",
      "text/plain": [
       "<Figure size 864x360 with 2 Axes>"
      ]
     },
     "metadata": {
      "needs_background": "light"
     },
     "output_type": "display_data"
    }
   ],
   "source": [
    "fig, (ax1,ax2) = plt.subplots(ncols=2,figsize=(12,5))\n",
    "\n",
    "ax1.scatter(x_train['Age'],x_train['Fare'])\n",
    "ax1.set_title(\"before scalling\")\n",
    "\n",
    "ax2.scatter(x_train_scaled['Age'],x_train_scaled['Fare'],color='red')\n",
    "ax2.set_title(\"after scalling\")\n",
    "plt.show()"
   ]
  },
  {
   "cell_type": "markdown",
   "id": "9e28b2a4-4ad5-44f6-946f-c449e74203b8",
   "metadata": {},
   "source": [
    "# Why scalling is important"
   ]
  },
  {
   "cell_type": "code",
   "execution_count": 83,
   "id": "24c2cafc-6d73-4152-a87e-ab074301b971",
   "metadata": {},
   "outputs": [],
   "source": [
    "from sklearn.linear_model import LogisticRegression\n",
    "\n",
    "lr=LogisticRegression()\n",
    "lr_scaled =LogisticRegression()"
   ]
  },
  {
   "cell_type": "code",
   "execution_count": 84,
   "id": "9623af49-d0e6-40ab-bbab-505989a5513a",
   "metadata": {},
   "outputs": [
    {
     "data": {
      "text/html": [
       "<style>#sk-container-id-6 {color: black;}#sk-container-id-6 pre{padding: 0;}#sk-container-id-6 div.sk-toggleable {background-color: white;}#sk-container-id-6 label.sk-toggleable__label {cursor: pointer;display: block;width: 100%;margin-bottom: 0;padding: 0.3em;box-sizing: border-box;text-align: center;}#sk-container-id-6 label.sk-toggleable__label-arrow:before {content: \"▸\";float: left;margin-right: 0.25em;color: #696969;}#sk-container-id-6 label.sk-toggleable__label-arrow:hover:before {color: black;}#sk-container-id-6 div.sk-estimator:hover label.sk-toggleable__label-arrow:before {color: black;}#sk-container-id-6 div.sk-toggleable__content {max-height: 0;max-width: 0;overflow: hidden;text-align: left;background-color: #f0f8ff;}#sk-container-id-6 div.sk-toggleable__content pre {margin: 0.2em;color: black;border-radius: 0.25em;background-color: #f0f8ff;}#sk-container-id-6 input.sk-toggleable__control:checked~div.sk-toggleable__content {max-height: 200px;max-width: 100%;overflow: auto;}#sk-container-id-6 input.sk-toggleable__control:checked~label.sk-toggleable__label-arrow:before {content: \"▾\";}#sk-container-id-6 div.sk-estimator input.sk-toggleable__control:checked~label.sk-toggleable__label {background-color: #d4ebff;}#sk-container-id-6 div.sk-label input.sk-toggleable__control:checked~label.sk-toggleable__label {background-color: #d4ebff;}#sk-container-id-6 input.sk-hidden--visually {border: 0;clip: rect(1px 1px 1px 1px);clip: rect(1px, 1px, 1px, 1px);height: 1px;margin: -1px;overflow: hidden;padding: 0;position: absolute;width: 1px;}#sk-container-id-6 div.sk-estimator {font-family: monospace;background-color: #f0f8ff;border: 1px dotted black;border-radius: 0.25em;box-sizing: border-box;margin-bottom: 0.5em;}#sk-container-id-6 div.sk-estimator:hover {background-color: #d4ebff;}#sk-container-id-6 div.sk-parallel-item::after {content: \"\";width: 100%;border-bottom: 1px solid gray;flex-grow: 1;}#sk-container-id-6 div.sk-label:hover label.sk-toggleable__label {background-color: #d4ebff;}#sk-container-id-6 div.sk-serial::before {content: \"\";position: absolute;border-left: 1px solid gray;box-sizing: border-box;top: 0;bottom: 0;left: 50%;z-index: 0;}#sk-container-id-6 div.sk-serial {display: flex;flex-direction: column;align-items: center;background-color: white;padding-right: 0.2em;padding-left: 0.2em;position: relative;}#sk-container-id-6 div.sk-item {position: relative;z-index: 1;}#sk-container-id-6 div.sk-parallel {display: flex;align-items: stretch;justify-content: center;background-color: white;position: relative;}#sk-container-id-6 div.sk-item::before, #sk-container-id-6 div.sk-parallel-item::before {content: \"\";position: absolute;border-left: 1px solid gray;box-sizing: border-box;top: 0;bottom: 0;left: 50%;z-index: -1;}#sk-container-id-6 div.sk-parallel-item {display: flex;flex-direction: column;z-index: 1;position: relative;background-color: white;}#sk-container-id-6 div.sk-parallel-item:first-child::after {align-self: flex-end;width: 50%;}#sk-container-id-6 div.sk-parallel-item:last-child::after {align-self: flex-start;width: 50%;}#sk-container-id-6 div.sk-parallel-item:only-child::after {width: 0;}#sk-container-id-6 div.sk-dashed-wrapped {border: 1px dashed gray;margin: 0 0.4em 0.5em 0.4em;box-sizing: border-box;padding-bottom: 0.4em;background-color: white;}#sk-container-id-6 div.sk-label label {font-family: monospace;font-weight: bold;display: inline-block;line-height: 1.2em;}#sk-container-id-6 div.sk-label-container {text-align: center;}#sk-container-id-6 div.sk-container {/* jupyter's `normalize.less` sets `[hidden] { display: none; }` but bootstrap.min.css set `[hidden] { display: none !important; }` so we also need the `!important` here to be able to override the default hidden behavior on the sphinx rendered scikit-learn.org. See: https://github.com/scikit-learn/scikit-learn/issues/21755 */display: inline-block !important;position: relative;}#sk-container-id-6 div.sk-text-repr-fallback {display: none;}</style><div id=\"sk-container-id-6\" class=\"sk-top-container\"><div class=\"sk-text-repr-fallback\"><pre>LogisticRegression()</pre><b>In a Jupyter environment, please rerun this cell to show the HTML representation or trust the notebook. <br />On GitHub, the HTML representation is unable to render, please try loading this page with nbviewer.org.</b></div><div class=\"sk-container\" hidden><div class=\"sk-item\"><div class=\"sk-estimator sk-toggleable\"><input class=\"sk-toggleable__control sk-hidden--visually\" id=\"sk-estimator-id-6\" type=\"checkbox\" checked><label for=\"sk-estimator-id-6\" class=\"sk-toggleable__label sk-toggleable__label-arrow\">LogisticRegression</label><div class=\"sk-toggleable__content\"><pre>LogisticRegression()</pre></div></div></div></div></div>"
      ],
      "text/plain": [
       "LogisticRegression()"
      ]
     },
     "execution_count": 84,
     "metadata": {},
     "output_type": "execute_result"
    }
   ],
   "source": [
    "lr.fit(x_train,y_train)\n",
    "lr_scaled.fit(x_train_scaled,y_train)"
   ]
  },
  {
   "cell_type": "code",
   "execution_count": 85,
   "id": "001e4c64-70fe-45cc-b4b2-23b65c188e84",
   "metadata": {},
   "outputs": [],
   "source": [
    "y_pred= lr.predict(x_test)\n",
    "y_pred_scaled= lr_scaled.predict(x_test_scaled)"
   ]
  },
  {
   "cell_type": "code",
   "execution_count": 86,
   "id": "216d9cc9-50db-49ff-9046-d1cf62b21579",
   "metadata": {},
   "outputs": [],
   "source": [
    "from sklearn.metrics import accuracy_score"
   ]
  },
  {
   "cell_type": "code",
   "execution_count": 87,
   "id": "8eb5a094-df33-42d0-8bd3-69dfd5d73822",
   "metadata": {},
   "outputs": [
    {
     "name": "stdout",
     "output_type": "stream",
     "text": [
      "actual 0.63\n",
      "scaled 0.63\n"
     ]
    }
   ],
   "source": [
    "print(\"actual\",accuracy_score(y_test,y_pred))\n",
    "print(\"scaled\",accuracy_score(y_test,y_pred_scaled))"
   ]
  },
  {
   "cell_type": "code",
   "execution_count": 103,
   "id": "d4c8d8b1-52d1-452d-aa32-5da81e37b1ba",
   "metadata": {},
   "outputs": [
    {
     "data": {
      "text/plain": [
       "0.6322849213691026"
      ]
     },
     "execution_count": 103,
     "metadata": {},
     "output_type": "execute_result"
    }
   ],
   "source": [
    "from sklearn.model_selection import cross_val_score\n",
    "cross_val_score(lr, x_train, y_train, cv=5, scoring='accuracy').mean()"
   ]
  },
  {
   "cell_type": "code",
   "execution_count": 104,
   "id": "3403b3a1-a8e8-4efe-8f17-cdcd95dfac7e",
   "metadata": {},
   "outputs": [
    {
     "data": {
      "text/plain": [
       "0.6322849213691026"
      ]
     },
     "execution_count": 104,
     "metadata": {},
     "output_type": "execute_result"
    }
   ],
   "source": [
    "from sklearn.model_selection import cross_val_score\n",
    "cross_val_score(lr_scaled, x_train_scaled, y_train, cv=5, scoring='accuracy').mean()"
   ]
  },
  {
   "cell_type": "markdown",
   "id": "faa732c9-f950-4e65-a905-566513248714",
   "metadata": {},
   "source": [
    "#### keep in mind there is no disadvantage of scalling but depending on the algoridhm it would be gives more benifits "
   ]
  },
  {
   "cell_type": "code",
   "execution_count": 97,
   "id": "f1fbfe00-0109-413c-a38e-ce863f067500",
   "metadata": {},
   "outputs": [],
   "source": [
    "from sklearn.tree import DecisionTreeClassifier\n",
    "dt=DecisionTreeClassifier()\n",
    "dt_scaled=DecisionTreeClassifier()"
   ]
  },
  {
   "cell_type": "code",
   "execution_count": 98,
   "id": "2a175962-52fd-461b-aeab-513998b1b8c2",
   "metadata": {},
   "outputs": [
    {
     "data": {
      "text/html": [
       "<style>#sk-container-id-8 {color: black;}#sk-container-id-8 pre{padding: 0;}#sk-container-id-8 div.sk-toggleable {background-color: white;}#sk-container-id-8 label.sk-toggleable__label {cursor: pointer;display: block;width: 100%;margin-bottom: 0;padding: 0.3em;box-sizing: border-box;text-align: center;}#sk-container-id-8 label.sk-toggleable__label-arrow:before {content: \"▸\";float: left;margin-right: 0.25em;color: #696969;}#sk-container-id-8 label.sk-toggleable__label-arrow:hover:before {color: black;}#sk-container-id-8 div.sk-estimator:hover label.sk-toggleable__label-arrow:before {color: black;}#sk-container-id-8 div.sk-toggleable__content {max-height: 0;max-width: 0;overflow: hidden;text-align: left;background-color: #f0f8ff;}#sk-container-id-8 div.sk-toggleable__content pre {margin: 0.2em;color: black;border-radius: 0.25em;background-color: #f0f8ff;}#sk-container-id-8 input.sk-toggleable__control:checked~div.sk-toggleable__content {max-height: 200px;max-width: 100%;overflow: auto;}#sk-container-id-8 input.sk-toggleable__control:checked~label.sk-toggleable__label-arrow:before {content: \"▾\";}#sk-container-id-8 div.sk-estimator input.sk-toggleable__control:checked~label.sk-toggleable__label {background-color: #d4ebff;}#sk-container-id-8 div.sk-label input.sk-toggleable__control:checked~label.sk-toggleable__label {background-color: #d4ebff;}#sk-container-id-8 input.sk-hidden--visually {border: 0;clip: rect(1px 1px 1px 1px);clip: rect(1px, 1px, 1px, 1px);height: 1px;margin: -1px;overflow: hidden;padding: 0;position: absolute;width: 1px;}#sk-container-id-8 div.sk-estimator {font-family: monospace;background-color: #f0f8ff;border: 1px dotted black;border-radius: 0.25em;box-sizing: border-box;margin-bottom: 0.5em;}#sk-container-id-8 div.sk-estimator:hover {background-color: #d4ebff;}#sk-container-id-8 div.sk-parallel-item::after {content: \"\";width: 100%;border-bottom: 1px solid gray;flex-grow: 1;}#sk-container-id-8 div.sk-label:hover label.sk-toggleable__label {background-color: #d4ebff;}#sk-container-id-8 div.sk-serial::before {content: \"\";position: absolute;border-left: 1px solid gray;box-sizing: border-box;top: 0;bottom: 0;left: 50%;z-index: 0;}#sk-container-id-8 div.sk-serial {display: flex;flex-direction: column;align-items: center;background-color: white;padding-right: 0.2em;padding-left: 0.2em;position: relative;}#sk-container-id-8 div.sk-item {position: relative;z-index: 1;}#sk-container-id-8 div.sk-parallel {display: flex;align-items: stretch;justify-content: center;background-color: white;position: relative;}#sk-container-id-8 div.sk-item::before, #sk-container-id-8 div.sk-parallel-item::before {content: \"\";position: absolute;border-left: 1px solid gray;box-sizing: border-box;top: 0;bottom: 0;left: 50%;z-index: -1;}#sk-container-id-8 div.sk-parallel-item {display: flex;flex-direction: column;z-index: 1;position: relative;background-color: white;}#sk-container-id-8 div.sk-parallel-item:first-child::after {align-self: flex-end;width: 50%;}#sk-container-id-8 div.sk-parallel-item:last-child::after {align-self: flex-start;width: 50%;}#sk-container-id-8 div.sk-parallel-item:only-child::after {width: 0;}#sk-container-id-8 div.sk-dashed-wrapped {border: 1px dashed gray;margin: 0 0.4em 0.5em 0.4em;box-sizing: border-box;padding-bottom: 0.4em;background-color: white;}#sk-container-id-8 div.sk-label label {font-family: monospace;font-weight: bold;display: inline-block;line-height: 1.2em;}#sk-container-id-8 div.sk-label-container {text-align: center;}#sk-container-id-8 div.sk-container {/* jupyter's `normalize.less` sets `[hidden] { display: none; }` but bootstrap.min.css set `[hidden] { display: none !important; }` so we also need the `!important` here to be able to override the default hidden behavior on the sphinx rendered scikit-learn.org. See: https://github.com/scikit-learn/scikit-learn/issues/21755 */display: inline-block !important;position: relative;}#sk-container-id-8 div.sk-text-repr-fallback {display: none;}</style><div id=\"sk-container-id-8\" class=\"sk-top-container\"><div class=\"sk-text-repr-fallback\"><pre>DecisionTreeClassifier()</pre><b>In a Jupyter environment, please rerun this cell to show the HTML representation or trust the notebook. <br />On GitHub, the HTML representation is unable to render, please try loading this page with nbviewer.org.</b></div><div class=\"sk-container\" hidden><div class=\"sk-item\"><div class=\"sk-estimator sk-toggleable\"><input class=\"sk-toggleable__control sk-hidden--visually\" id=\"sk-estimator-id-8\" type=\"checkbox\" checked><label for=\"sk-estimator-id-8\" class=\"sk-toggleable__label sk-toggleable__label-arrow\">DecisionTreeClassifier</label><div class=\"sk-toggleable__content\"><pre>DecisionTreeClassifier()</pre></div></div></div></div></div>"
      ],
      "text/plain": [
       "DecisionTreeClassifier()"
      ]
     },
     "execution_count": 98,
     "metadata": {},
     "output_type": "execute_result"
    }
   ],
   "source": [
    "dt.fit(x_train,y_train)\n",
    "dt_scaled.fit(x_train_scaled,y_train)"
   ]
  },
  {
   "cell_type": "code",
   "execution_count": 99,
   "id": "836eddc5-e113-46a2-b1d6-882e3fb9bd24",
   "metadata": {},
   "outputs": [],
   "source": [
    "y_pred= dt.predict(x_test)\n",
    "y_pred_scaled= dt_scaled.predict(x_test_scaled)"
   ]
  },
  {
   "cell_type": "code",
   "execution_count": 100,
   "id": "61d18822-9644-403f-a3c1-d9697a680d84",
   "metadata": {},
   "outputs": [
    {
     "name": "stdout",
     "output_type": "stream",
     "text": [
      "actual 0.64\n",
      "scaled 0.61\n"
     ]
    }
   ],
   "source": [
    "print(\"actual\",accuracy_score(y_test,y_pred))\n",
    "print(\"scaled\",accuracy_score(y_test,y_pred_scaled))"
   ]
  },
  {
   "cell_type": "code",
   "execution_count": 101,
   "id": "24f479b0-15c7-40ee-a6ec-c3114d172621",
   "metadata": {},
   "outputs": [
    {
     "data": {
      "text/plain": [
       "0.5495837187789084"
      ]
     },
     "execution_count": 101,
     "metadata": {},
     "output_type": "execute_result"
    }
   ],
   "source": [
    "from sklearn.model_selection import cross_val_score\n",
    "cross_val_score(dt, x_train, y_train, cv=5, scoring='accuracy').mean()"
   ]
  },
  {
   "cell_type": "code",
   "execution_count": 102,
   "id": "ad1c5570-ecf7-4d1c-9ff6-f3f53042af88",
   "metadata": {},
   "outputs": [
    {
     "data": {
      "text/plain": [
       "0.5666975023126735"
      ]
     },
     "execution_count": 102,
     "metadata": {},
     "output_type": "execute_result"
    }
   ],
   "source": [
    "from sklearn.model_selection import cross_val_score\n",
    "cross_val_score(dt_scaled, x_train_scaled, y_train, cv=5, scoring='accuracy').mean()"
   ]
  },
  {
   "cell_type": "markdown",
   "id": "2c91dc3b-0519-41b2-8f58-c42d4189e3ce",
   "metadata": {},
   "source": [
    "### now we can clearly see there is benefit of applying standred scaler in data set"
   ]
  },
  {
   "cell_type": "code",
   "execution_count": null,
   "id": "4211ff34-db80-4b54-b2da-9241eaae4d4c",
   "metadata": {},
   "outputs": [],
   "source": []
  }
 ],
 "metadata": {
  "kernelspec": {
   "display_name": "Python 3 (ipykernel)",
   "language": "python",
   "name": "python3"
  },
  "language_info": {
   "codemirror_mode": {
    "name": "ipython",
    "version": 3
   },
   "file_extension": ".py",
   "mimetype": "text/x-python",
   "name": "python",
   "nbconvert_exporter": "python",
   "pygments_lexer": "ipython3",
   "version": "3.10.12"
  }
 },
 "nbformat": 4,
 "nbformat_minor": 5
}
