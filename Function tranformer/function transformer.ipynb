{
 "cells": [
  {
   "cell_type": "code",
   "execution_count": 1,
   "id": "4e58b768-581d-4326-b49f-4d1ea0bd562c",
   "metadata": {},
   "outputs": [],
   "source": [
    "import pandas as pd\n",
    "import numpy as np"
   ]
  },
  {
   "cell_type": "code",
   "execution_count": 2,
   "id": "823c775e-29ee-4ea1-9f70-b2d55d0edf61",
   "metadata": {},
   "outputs": [],
   "source": [
    "data = pd.read_csv('titanic.csv',usecols=['Fare','Age','Survived'])"
   ]
  },
  {
   "cell_type": "code",
   "execution_count": 3,
   "id": "2dfbc424-26fd-42d3-9263-8ca8cbe5dd70",
   "metadata": {},
   "outputs": [
    {
     "data": {
      "text/html": [
       "<div>\n",
       "<style scoped>\n",
       "    .dataframe tbody tr th:only-of-type {\n",
       "        vertical-align: middle;\n",
       "    }\n",
       "\n",
       "    .dataframe tbody tr th {\n",
       "        vertical-align: top;\n",
       "    }\n",
       "\n",
       "    .dataframe thead th {\n",
       "        text-align: right;\n",
       "    }\n",
       "</style>\n",
       "<table border=\"1\" class=\"dataframe\">\n",
       "  <thead>\n",
       "    <tr style=\"text-align: right;\">\n",
       "      <th></th>\n",
       "      <th>Survived</th>\n",
       "      <th>Age</th>\n",
       "      <th>Fare</th>\n",
       "    </tr>\n",
       "  </thead>\n",
       "  <tbody>\n",
       "    <tr>\n",
       "      <th>0</th>\n",
       "      <td>0</td>\n",
       "      <td>34.5</td>\n",
       "      <td>7.8292</td>\n",
       "    </tr>\n",
       "    <tr>\n",
       "      <th>1</th>\n",
       "      <td>1</td>\n",
       "      <td>47.0</td>\n",
       "      <td>7.0000</td>\n",
       "    </tr>\n",
       "    <tr>\n",
       "      <th>2</th>\n",
       "      <td>0</td>\n",
       "      <td>62.0</td>\n",
       "      <td>9.6875</td>\n",
       "    </tr>\n",
       "    <tr>\n",
       "      <th>3</th>\n",
       "      <td>0</td>\n",
       "      <td>27.0</td>\n",
       "      <td>8.6625</td>\n",
       "    </tr>\n",
       "    <tr>\n",
       "      <th>4</th>\n",
       "      <td>1</td>\n",
       "      <td>22.0</td>\n",
       "      <td>12.2875</td>\n",
       "    </tr>\n",
       "  </tbody>\n",
       "</table>\n",
       "</div>"
      ],
      "text/plain": [
       "   Survived   Age     Fare\n",
       "0         0  34.5   7.8292\n",
       "1         1  47.0   7.0000\n",
       "2         0  62.0   9.6875\n",
       "3         0  27.0   8.6625\n",
       "4         1  22.0  12.2875"
      ]
     },
     "execution_count": 3,
     "metadata": {},
     "output_type": "execute_result"
    }
   ],
   "source": [
    "data.head()"
   ]
  },
  {
   "cell_type": "code",
   "execution_count": 4,
   "id": "305745b1-b1a6-4259-8137-879388acdf85",
   "metadata": {},
   "outputs": [
    {
     "data": {
      "text/plain": [
       "Survived     0\n",
       "Age         86\n",
       "Fare         1\n",
       "dtype: int64"
      ]
     },
     "execution_count": 4,
     "metadata": {},
     "output_type": "execute_result"
    }
   ],
   "source": [
    "data.isnull().sum()"
   ]
  },
  {
   "cell_type": "code",
   "execution_count": 5,
   "id": "bf7031d5-5a12-4c5f-a2c0-3c1474d23d6e",
   "metadata": {},
   "outputs": [
    {
     "data": {
      "text/plain": [
       "(418, 3)"
      ]
     },
     "execution_count": 5,
     "metadata": {},
     "output_type": "execute_result"
    }
   ],
   "source": [
    "data.shape"
   ]
  },
  {
   "cell_type": "code",
   "execution_count": 6,
   "id": "de1a2471-7862-46d6-90e1-cd34c28a18b7",
   "metadata": {},
   "outputs": [],
   "source": [
    "data['Age'].fillna(np.mean(data['Age']),inplace=True)"
   ]
  },
  {
   "cell_type": "code",
   "execution_count": 7,
   "id": "218e6d6a-5abe-495a-8578-f8b3f10dac54",
   "metadata": {},
   "outputs": [],
   "source": [
    "data['Fare'].fillna(np.mean(data['Fare']),inplace=True)"
   ]
  },
  {
   "cell_type": "code",
   "execution_count": 8,
   "id": "7f00ab37-1e73-4861-b554-19a69c62d841",
   "metadata": {},
   "outputs": [
    {
     "data": {
      "text/plain": [
       "Survived    0\n",
       "Age         0\n",
       "Fare        0\n",
       "dtype: int64"
      ]
     },
     "execution_count": 8,
     "metadata": {},
     "output_type": "execute_result"
    }
   ],
   "source": [
    "data.isnull().sum()"
   ]
  },
  {
   "cell_type": "code",
   "execution_count": 55,
   "id": "a3dc6ba2-b590-4f4b-a735-d42cfef85b6d",
   "metadata": {},
   "outputs": [],
   "source": [
    "x=data[['Age','Fare']]\n",
    "y=data['Survived']"
   ]
  },
  {
   "cell_type": "code",
   "execution_count": 10,
   "id": "d746cb00-2ffc-4acc-9c57-30f6286c4045",
   "metadata": {},
   "outputs": [],
   "source": [
    "from sklearn.model_selection import train_test_split\n",
    "X_train, X_test, y_train, y_test = train_test_split(x,y,test_size=0.2,random_state=42)"
   ]
  },
  {
   "cell_type": "code",
   "execution_count": 11,
   "id": "82f13210-76a0-40ba-b9a2-ea265b9dc4cd",
   "metadata": {},
   "outputs": [],
   "source": [
    "import matplotlib.pyplot as plt\n",
    "import seaborn as sns\n",
    "import scipy.stats as stats"
   ]
  },
  {
   "cell_type": "code",
   "execution_count": 33,
   "id": "26e2299d-4bbe-43a8-a658-d521a36e0bb1",
   "metadata": {},
   "outputs": [
    {
     "name": "stderr",
     "output_type": "stream",
     "text": [
      "/tmp/ipykernel_3663/1863081735.py:3: FutureWarning: \n",
      "\n",
      "`shade` is now deprecated in favor of `fill`; setting `fill=True`.\n",
      "This will become an error in seaborn v0.14.0; please update your code.\n",
      "\n",
      "  sns.kdeplot(data=x[\"Age\"], shade=True)\n"
     ]
    },
    {
     "data": {
      "image/png": "[encoded data removed]",
      "text/plain": [
       "<Figure size 1008x288 with 2 Axes>"
      ]
     },
     "metadata": {
      "needs_background": "light"
     },
     "output_type": "display_data"
    }
   ],
   "source": [
    "plt.figure(figsize=(14,4))\n",
    "plt.subplot(121)\n",
    "sns.kdeplot(data=x[\"Age\"], shade=True)\n",
    "plt.title('Age PDF')\n",
    "\n",
    "plt.subplot(122)\n",
    "stats.probplot(x['Age'], dist=\"norm\", plot=plt)\n",
    "plt.title('Age QQ Plot')\n",
    "\n",
    "plt.show()\n"
   ]
  },
  {
   "cell_type": "code",
   "execution_count": 34,
   "id": "0bf2dd47-f279-4aec-beab-12f24d8258b3",
   "metadata": {},
   "outputs": [
    {
     "name": "stderr",
     "output_type": "stream",
     "text": [
      "/tmp/ipykernel_3663/54474942.py:3: FutureWarning: \n",
      "\n",
      "`shade` is now deprecated in favor of `fill`; setting `fill=True`.\n",
      "This will become an error in seaborn v0.14.0; please update your code.\n",
      "\n",
      "  sns.kdeplot(data=x[\"Fare\"], shade=True)\n"
     ]
    },
    {
     "data": {
      "image/png": "[encoded data removed]",
      "text/plain": [
       "<Figure size 1008x288 with 2 Axes>"
      ]
     },
     "metadata": {
      "needs_background": "light"
     },
     "output_type": "display_data"
    }
   ],
   "source": [
    "plt.figure(figsize=(14,4))\n",
    "plt.subplot(121)\n",
    "sns.kdeplot(data=x[\"Fare\"], shade=True)\n",
    "sns.histplot(x[\"Fare\"],stat=\"density\")\n",
    "plt.title('Fare PDF')\n",
    "\n",
    "plt.subplot(122)\n",
    "stats.probplot(x['Fare'], dist=\"norm\", plot=plt)\n",
    "plt.title('Fare QQ Plot')\n",
    "\n",
    "plt.show()\n"
   ]
  },
  {
   "cell_type": "code",
   "execution_count": 35,
   "id": "decce2b2-046d-4b2e-904d-1b357d332a26",
   "metadata": {},
   "outputs": [],
   "source": [
    "from sklearn.preprocessing import FunctionTransformer"
   ]
  },
  {
   "cell_type": "code",
   "execution_count": 36,
   "id": "c935804d-b12c-4c69-996c-a1aa347c07ad",
   "metadata": {},
   "outputs": [],
   "source": [
    "trf = FunctionTransformer(func=np.log1p)"
   ]
  },
  {
   "cell_type": "code",
   "execution_count": 39,
   "id": "0f48c044-ebca-456b-90a9-3a08bf88eded",
   "metadata": {},
   "outputs": [],
   "source": [
    "x_transformed = trf.fit_transform(x)"
   ]
  },
  {
   "cell_type": "code",
   "execution_count": 40,
   "id": "c0076d37-a5ae-490f-950e-4a60b77d17a6",
   "metadata": {},
   "outputs": [
    {
     "data": {
      "text/html": [
       "<div>\n",
       "<style scoped>\n",
       "    .dataframe tbody tr th:only-of-type {\n",
       "        vertical-align: middle;\n",
       "    }\n",
       "\n",
       "    .dataframe tbody tr th {\n",
       "        vertical-align: top;\n",
       "    }\n",
       "\n",
       "    .dataframe thead th {\n",
       "        text-align: right;\n",
       "    }\n",
       "</style>\n",
       "<table border=\"1\" class=\"dataframe\">\n",
       "  <thead>\n",
       "    <tr style=\"text-align: right;\">\n",
       "      <th></th>\n",
       "      <th>Age</th>\n",
       "      <th>Fare</th>\n",
       "    </tr>\n",
       "  </thead>\n",
       "  <tbody>\n",
       "    <tr>\n",
       "      <th>0</th>\n",
       "      <td>3.569533</td>\n",
       "      <td>2.178064</td>\n",
       "    </tr>\n",
       "    <tr>\n",
       "      <th>1</th>\n",
       "      <td>3.871201</td>\n",
       "      <td>2.079442</td>\n",
       "    </tr>\n",
       "    <tr>\n",
       "      <th>2</th>\n",
       "      <td>4.143135</td>\n",
       "      <td>2.369075</td>\n",
       "    </tr>\n",
       "    <tr>\n",
       "      <th>3</th>\n",
       "      <td>3.332205</td>\n",
       "      <td>2.268252</td>\n",
       "    </tr>\n",
       "    <tr>\n",
       "      <th>4</th>\n",
       "      <td>3.135494</td>\n",
       "      <td>2.586824</td>\n",
       "    </tr>\n",
       "    <tr>\n",
       "      <th>...</th>\n",
       "      <td>...</td>\n",
       "      <td>...</td>\n",
       "    </tr>\n",
       "    <tr>\n",
       "      <th>413</th>\n",
       "      <td>3.442742</td>\n",
       "      <td>2.202765</td>\n",
       "    </tr>\n",
       "    <tr>\n",
       "      <th>414</th>\n",
       "      <td>3.688879</td>\n",
       "      <td>4.699571</td>\n",
       "    </tr>\n",
       "    <tr>\n",
       "      <th>415</th>\n",
       "      <td>3.676301</td>\n",
       "      <td>2.110213</td>\n",
       "    </tr>\n",
       "    <tr>\n",
       "      <th>416</th>\n",
       "      <td>3.442742</td>\n",
       "      <td>2.202765</td>\n",
       "    </tr>\n",
       "    <tr>\n",
       "      <th>417</th>\n",
       "      <td>3.442742</td>\n",
       "      <td>3.150952</td>\n",
       "    </tr>\n",
       "  </tbody>\n",
       "</table>\n",
       "<p>418 rows × 2 columns</p>\n",
       "</div>"
      ],
      "text/plain": [
       "          Age      Fare\n",
       "0    3.569533  2.178064\n",
       "1    3.871201  2.079442\n",
       "2    4.143135  2.369075\n",
       "3    3.332205  2.268252\n",
       "4    3.135494  2.586824\n",
       "..        ...       ...\n",
       "413  3.442742  2.202765\n",
       "414  3.688879  4.699571\n",
       "415  3.676301  2.110213\n",
       "416  3.442742  2.202765\n",
       "417  3.442742  3.150952\n",
       "\n",
       "[418 rows x 2 columns]"
      ]
     },
     "execution_count": 40,
     "metadata": {},
     "output_type": "execute_result"
    }
   ],
   "source": [
    "x_transformed"
   ]
  },
  {
   "cell_type": "code",
   "execution_count": 51,
   "id": "4bc74116-0cb5-4f7d-be8f-4eb665d3b0aa",
   "metadata": {},
   "outputs": [
    {
     "data": {
      "image/png": "[encoded data removed]",
      "text/plain": [
       "<Figure size 1008x288 with 2 Axes>"
      ]
     },
     "metadata": {
      "needs_background": "light"
     },
     "output_type": "display_data"
    }
   ],
   "source": [
    "plt.figure(figsize=(14,4))\n",
    "plt.subplot(121)\n",
    "stats.probplot(x['Age'], dist=\"norm\", plot=plt)\n",
    "plt.title('Age before')\n",
    "\n",
    "plt.subplot(122)\n",
    "stats.probplot(x_transformed['Age'], dist=\"norm\", plot=plt)\n",
    "plt.title('Age after')\n",
    "\n",
    "plt.show()\n"
   ]
  },
  {
   "cell_type": "code",
   "execution_count": 50,
   "id": "7ab587e5-744c-4322-8918-290b6f3dcccf",
   "metadata": {},
   "outputs": [
    {
     "data": {
      "image/png": "[encoded data removed]",
      "text/plain": [
       "<Figure size 1008x288 with 2 Axes>"
      ]
     },
     "metadata": {
      "needs_background": "light"
     },
     "output_type": "display_data"
    }
   ],
   "source": [
    "plt.figure(figsize=(14,4))\n",
    "plt.subplot(121)\n",
    "stats.probplot(x['Fare'], dist=\"norm\", plot=plt)\n",
    "plt.title('before')\n",
    "\n",
    "plt.subplot(122)\n",
    "stats.probplot(x_transformed['Fare'], dist=\"norm\", plot=plt)\n",
    "plt.title('after')\n",
    "\n",
    "plt.show()"
   ]
  },
  {
   "cell_type": "markdown",
   "id": "f849e662-b56d-4bb8-84ba-5c90fa30e0b9",
   "metadata": {},
   "source": [
    "# now we can clerly see fare coulumn transfored very good but age column completly goes wrong so the best way was we just put tranform on fare column insted of age column"
   ]
  },
  {
   "cell_type": "code",
   "execution_count": 52,
   "id": "46a49a49-f8f7-47c4-8b13-84011f3a38a5",
   "metadata": {},
   "outputs": [],
   "source": [
    "from sklearn.compose import ColumnTransformer"
   ]
  },
  {
   "cell_type": "code",
   "execution_count": 58,
   "id": "8f0d765e-22ed-4d01-ac52-2cddc19bc24f",
   "metadata": {},
   "outputs": [],
   "source": [
    "ctf = ColumnTransformer([\n",
    "    ('log',FunctionTransformer(np.reciprocal),['Fare'])],\n",
    "                       remainder='passthrough')"
   ]
  },
  {
   "cell_type": "code",
   "execution_count": 59,
   "id": "9ed296e9-d9f5-4f78-973a-224ea28aef73",
   "metadata": {},
   "outputs": [
    {
     "name": "stderr",
     "output_type": "stream",
     "text": [
      "/home/user/.local/lib/python3.10/site-packages/pandas/core/internals/blocks.py:329: RuntimeWarning: divide by zero encountered in reciprocal\n",
      "  result = func(self.values, **kwargs)\n"
     ]
    }
   ],
   "source": [
    "new_tranformed = ctf.fit_transform(x)"
   ]
  },
  {
   "cell_type": "code",
   "execution_count": 60,
   "id": "fe74a9be-b0f5-4dd6-8f76-7150ec8eb350",
   "metadata": {},
   "outputs": [
    {
     "data": {
      "text/plain": [
       "array([[1.27726971e-01, 3.45000000e+01],\n",
       "       [1.42857143e-01, 4.70000000e+01],\n",
       "       [1.03225806e-01, 6.20000000e+01],\n",
       "       [1.15440115e-01, 2.70000000e+01],\n",
       "       [8.13835198e-02, 2.20000000e+01],\n",
       "       [1.08401084e-01, 1.40000000e+01],\n",
       "       [1.31075342e-01, 3.00000000e+01],\n",
       "       [3.44827586e-02, 2.60000000e+01],\n",
       "       [1.38327892e-01, 1.80000000e+01],\n",
       "       [4.14078675e-02, 2.10000000e+01],\n",
       "       [1.26649611e-01, 3.02725904e+01],\n",
       "       [3.84615385e-02, 4.60000000e+01],\n",
       "       [1.21555866e-02, 2.30000000e+01],\n",
       "       [3.84615385e-02, 6.30000000e+01],\n",
       "       [1.63465468e-02, 4.70000000e+01],\n",
       "       [3.60739950e-02, 2.40000000e+01],\n",
       "       [8.09716599e-02, 3.50000000e+01],\n",
       "       [1.38408304e-01, 2.10000000e+01],\n",
       "       [1.26182965e-01, 2.70000000e+01],\n",
       "       [1.38408304e-01, 4.50000000e+01],\n",
       "       [1.68350168e-02, 5.50000000e+01],\n",
       "       [3.15377823e-01, 9.00000000e+00],\n",
       "       [3.15623688e-02, 3.02725904e+01],\n",
       "       [1.62921641e-02, 2.10000000e+01],\n",
       "       [3.81133873e-03, 4.80000000e+01],\n",
       "       [6.89655172e-02, 5.00000000e+01],\n",
       "       [1.61344451e-02, 2.20000000e+01],\n",
       "       [1.38408304e-01, 2.25000000e+01],\n",
       "       [3.27868852e-02, 4.10000000e+01],\n",
       "       [4.61271634e-02, 3.02725904e+01],\n",
       "       [3.84615385e-02, 5.00000000e+01],\n",
       "       [3.17460317e-02, 2.40000000e+01],\n",
       "       [4.86026731e-02, 3.30000000e+01],\n",
       "       [4.26439232e-02, 3.02725904e+01],\n",
       "       [1.73160173e-02, 3.00000000e+01],\n",
       "       [1.38327892e-01, 1.85000000e+01],\n",
       "       [1.24223602e-01, 3.02725904e+01],\n",
       "       [1.15440115e-01, 2.10000000e+01],\n",
       "       [1.05263158e-01, 2.50000000e+01],\n",
       "       [1.77004308e-02, 3.02725904e+01],\n",
       "       [7.45339763e-02, 3.90000000e+01],\n",
       "       [3.76647834e-02, 3.02725904e+01],\n",
       "       [1.27388535e-01, 4.10000000e+01],\n",
       "       [7.69230769e-02, 3.00000000e+01],\n",
       "       [1.90279749e-02, 4.50000000e+01],\n",
       "       [1.26182965e-01, 2.50000000e+01],\n",
       "       [3.36700337e-02, 4.50000000e+01],\n",
       "       [1.29032258e-01, 3.02725904e+01],\n",
       "       [1.31075858e-02, 6.00000000e+01],\n",
       "       [6.28930818e-02, 3.60000000e+01],\n",
       "       [1.66666667e-02, 2.40000000e+01],\n",
       "       [6.65189945e-02, 2.70000000e+01],\n",
       "       [4.34782609e-02, 2.00000000e+01],\n",
       "       [3.80228137e-03, 2.80000000e+01],\n",
       "       [6.41881483e-02, 3.02725904e+01],\n",
       "       [3.43347639e-02, 1.00000000e+01],\n",
       "       [1.26649611e-01, 3.50000000e+01],\n",
       "       [1.30718954e-01, 2.50000000e+01],\n",
       "       [6.21118012e-02, 3.02725904e+01],\n",
       "       [3.81133873e-03, 3.60000000e+01],\n",
       "       [1.26649611e-01, 1.70000000e+01],\n",
       "       [7.40740741e-02, 3.20000000e+01],\n",
       "       [1.29032258e-01, 1.80000000e+01],\n",
       "       [1.29449838e-01, 2.20000000e+01],\n",
       "       [3.81133873e-03, 1.30000000e+01],\n",
       "       [4.76190476e-02, 3.02725904e+01],\n",
       "       [1.26916438e-01, 1.80000000e+01],\n",
       "       [2.35849057e-02, 4.70000000e+01],\n",
       "       [3.50416119e-02, 3.10000000e+01],\n",
       "       [3.80228137e-03, 6.00000000e+01],\n",
       "       [1.29032258e-01, 2.40000000e+01],\n",
       "       [1.26649611e-01, 2.10000000e+01],\n",
       "       [1.26182965e-01, 2.90000000e+01],\n",
       "       [3.60739950e-02, 2.85000000e+01],\n",
       "       [4.72813239e-03, 3.50000000e+01],\n",
       "       [4.72813239e-03, 3.25000000e+01],\n",
       "       [1.24223602e-01, 3.02725904e+01],\n",
       "       [3.89105058e-02, 5.50000000e+01],\n",
       "       [7.69230769e-02, 3.00000000e+01],\n",
       "       [1.29032258e-01, 2.40000000e+01],\n",
       "       [6.55918351e-02, 6.00000000e+00],\n",
       "       [4.50898912e-03, 6.70000000e+01],\n",
       "       [3.84615385e-02, 4.90000000e+01],\n",
       "       [1.26649611e-01, 3.02725904e+01],\n",
       "       [9.33855047e-02, 3.02725904e+01],\n",
       "       [6.91840434e-02, 3.02725904e+01],\n",
       "       [1.26916438e-01, 2.70000000e+01],\n",
       "       [1.24223602e-01, 1.80000000e+01],\n",
       "       [1.29032258e-01, 3.02725904e+01],\n",
       "       [4.34782609e-02, 2.00000000e+00],\n",
       "       [7.19424460e-02, 2.20000000e+01],\n",
       "       [1.28617363e-01, 3.02725904e+01],\n",
       "       [1.92307692e-02, 2.70000000e+01],\n",
       "       [1.24223602e-01, 3.02725904e+01],\n",
       "       [3.84615385e-02, 2.50000000e+01],\n",
       "       [1.28274199e-01, 2.50000000e+01],\n",
       "       [1.26823082e-02, 7.60000000e+01],\n",
       "       [1.26182965e-01, 2.90000000e+01],\n",
       "       [1.27320415e-01, 2.00000000e+01],\n",
       "       [1.24223602e-01, 3.30000000e+01],\n",
       "       [1.80369650e-02, 4.30000000e+01],\n",
       "       [3.84615385e-02, 2.70000000e+01],\n",
       "       [1.29032258e-01, 3.02725904e+01],\n",
       "       [1.28617363e-01, 2.60000000e+01],\n",
       "       [1.17416370e-01, 1.60000000e+01],\n",
       "       [4.43951165e-02, 2.80000000e+01],\n",
       "       [1.27864157e-01, 2.10000000e+01],\n",
       "       [1.29032258e-01, 3.02725904e+01],\n",
       "       [1.14777618e-01, 3.02725904e+01],\n",
       "       [7.69230769e-02, 1.85000000e+01],\n",
       "       [6.64637307e-02, 4.10000000e+01],\n",
       "       [1.28547923e-01, 3.02725904e+01],\n",
       "       [3.15664537e-02, 3.60000000e+01],\n",
       "       [1.37300400e-01, 1.85000000e+01],\n",
       "       [4.50898912e-03, 6.30000000e+01],\n",
       "       [6.91840434e-02, 1.80000000e+01],\n",
       "       [1.55339806e-01, 3.02725904e+01],\n",
       "       [5.98802395e-02, 1.00000000e+00],\n",
       "       [1.32905025e-02, 3.60000000e+01],\n",
       "       [3.84615385e-02, 2.90000000e+01],\n",
       "       [6.34920635e-02, 1.20000000e+01],\n",
       "       [1.29032258e-01, 3.02725904e+01],\n",
       "       [1.73160173e-02, 3.50000000e+01],\n",
       "       [1.37931034e-01, 2.80000000e+01],\n",
       "       [1.29032258e-01, 3.02725904e+01],\n",
       "       [6.21118012e-02, 1.70000000e+01],\n",
       "       [1.28274199e-01, 2.20000000e+01],\n",
       "       [4.30107527e-02, 3.02725904e+01],\n",
       "       [7.69230769e-02, 4.20000000e+01],\n",
       "       [1.24223602e-01, 2.40000000e+01],\n",
       "       [1.24223602e-01, 3.20000000e+01],\n",
       "       [3.50877193e-02, 5.30000000e+01],\n",
       "       [3.92669643e-02, 3.02725904e+01],\n",
       "       [1.55339806e-01, 3.02725904e+01],\n",
       "       [1.26649611e-01, 4.30000000e+01],\n",
       "       [1.27320415e-01, 2.40000000e+01],\n",
       "       [1.38408304e-01, 2.65000000e+01],\n",
       "       [7.69230769e-02, 2.60000000e+01],\n",
       "       [1.24223602e-01, 2.30000000e+01],\n",
       "       [2.13219616e-02, 4.00000000e+01],\n",
       "       [2.13219616e-02, 1.00000000e+01],\n",
       "       [6.59848235e-03, 3.30000000e+01],\n",
       "       [3.81133873e-03, 6.10000000e+01],\n",
       "       [3.84615385e-02, 2.80000000e+01],\n",
       "       [3.76647834e-02, 4.20000000e+01],\n",
       "       [5.55555556e-02, 3.10000000e+01],\n",
       "       [1.92817546e-02, 3.02725904e+01],\n",
       "       [1.24223602e-01, 2.20000000e+01],\n",
       "       [3.76647834e-02, 3.02725904e+01],\n",
       "       [3.84615385e-02, 3.00000000e+01],\n",
       "       [1.20252579e-02, 2.30000000e+01],\n",
       "       [1.26649611e-01, 3.02725904e+01],\n",
       "       [2.80684512e-02, 6.05000000e+01],\n",
       "       [8.20795679e-02, 3.60000000e+01],\n",
       "       [3.18598168e-02, 1.30000000e+01],\n",
       "       [1.32450331e-01, 2.40000000e+01],\n",
       "       [4.50898912e-03, 2.90000000e+01],\n",
       "       [1.27320415e-01, 2.30000000e+01],\n",
       "       [3.76647834e-02, 4.20000000e+01],\n",
       "       [7.25952813e-02, 2.60000000e+01],\n",
       "       [1.29310902e-01, 3.02725904e+01],\n",
       "       [6.55918351e-02, 7.00000000e+00],\n",
       "       [7.40740741e-02, 2.60000000e+01],\n",
       "       [1.42857143e-01, 3.02725904e+01],\n",
       "       [7.69230769e-02, 4.10000000e+01],\n",
       "       [4.54029512e-02, 2.60000000e+01],\n",
       "       [1.98036272e-02, 4.80000000e+01],\n",
       "       [2.90909091e-02, 1.80000000e+01],\n",
       "       [3.60739950e-02, 3.02725904e+01],\n",
       "       [1.11576011e-01, 2.20000000e+01],\n",
       "       [1.32450331e-01, 3.02725904e+01],\n",
       "       [1.38408304e-01, 2.70000000e+01],\n",
       "       [7.19424460e-02, 2.30000000e+01],\n",
       "       [1.38327892e-01, 3.02725904e+01],\n",
       "       [3.18598168e-02, 4.00000000e+01],\n",
       "       [2.56410256e-02, 1.50000000e+01],\n",
       "       [2.72108844e-02, 2.00000000e+01],\n",
       "       [1.80369650e-02, 5.40000000e+01],\n",
       "       [2.56410256e-02, 3.60000000e+01],\n",
       "       [1.20252579e-02, 6.40000000e+01],\n",
       "       [7.69230769e-02, 3.00000000e+01],\n",
       "       [1.20252579e-02, 3.70000000e+01],\n",
       "       [1.88323917e-02, 1.80000000e+01],\n",
       "       [1.29032258e-01, 3.02725904e+01],\n",
       "       [4.04006451e-03, 2.70000000e+01],\n",
       "       [6.25000000e-02, 4.00000000e+01],\n",
       "       [4.76190476e-02, 2.10000000e+01],\n",
       "       [1.24223602e-01, 1.70000000e+01],\n",
       "       [1.43781452e-02, 3.02725904e+01],\n",
       "       [7.69230769e-02, 4.00000000e+01],\n",
       "       [3.84615385e-02, 3.40000000e+01],\n",
       "       [3.84615385e-02, 3.02725904e+01],\n",
       "       [6.89655172e-02, 1.15000000e+01],\n",
       "       [8.09716599e-02, 6.10000000e+01],\n",
       "       [3.07692308e-02, 8.00000000e+00],\n",
       "       [1.27320415e-01, 3.30000000e+01],\n",
       "       [7.43494424e-03, 6.00000000e+00],\n",
       "       [1.28617363e-01, 1.80000000e+01],\n",
       "       [9.52380952e-02, 2.30000000e+01],\n",
       "       [1.23266564e-01, 3.02725904e+01],\n",
       "       [6.45161290e-02, 3.02725904e+01],\n",
       "       [6.94444444e-02, 3.30000000e-01],\n",
       "       [4.39512142e-03, 4.70000000e+01],\n",
       "       [3.84615385e-02, 8.00000000e+00],\n",
       "       [9.52380952e-02, 2.50000000e+01],\n",
       "       [3.88474732e-02, 3.02725904e+01],\n",
       "       [1.29032258e-01, 3.50000000e+01],\n",
       "       [9.52380952e-02, 2.40000000e+01],\n",
       "       [3.60739950e-02, 3.30000000e+01],\n",
       "       [1.26649611e-01, 2.50000000e+01],\n",
       "       [4.43951165e-02, 3.20000000e+01],\n",
       "       [1.41843972e-01, 3.02725904e+01],\n",
       "       [1.36054422e-02, 1.70000000e+01],\n",
       "       [3.84615385e-02, 6.00000000e+01],\n",
       "       [1.28617363e-01, 3.80000000e+01],\n",
       "       [2.35294118e-02, 4.20000000e+01],\n",
       "       [1.26916438e-01, 3.02725904e+01],\n",
       "       [6.06550625e-03, 5.70000000e+01],\n",
       "       [4.72813239e-03, 5.00000000e+01],\n",
       "       [1.24223602e-01, 3.02725904e+01],\n",
       "       [7.21589228e-02, 3.00000000e+01],\n",
       "       [1.24223602e-01, 2.10000000e+01],\n",
       "       [9.52380952e-02, 2.20000000e+01],\n",
       "       [1.28274199e-01, 2.10000000e+01],\n",
       "       [3.64354473e-02, 5.30000000e+01],\n",
       "       [6.55918351e-02, 3.02725904e+01],\n",
       "       [1.28274199e-01, 2.30000000e+01],\n",
       "       [1.29032258e-01, 3.02725904e+01],\n",
       "       [6.62251656e-02, 4.05000000e+01],\n",
       "       [7.69230769e-02, 3.60000000e+01],\n",
       "       [1.53846154e-02, 1.40000000e+01],\n",
       "       [3.76647834e-02, 2.10000000e+01],\n",
       "       [1.53945626e-01, 2.10000000e+01],\n",
       "       [1.26916438e-01, 3.02725904e+01],\n",
       "       [1.40285312e-02, 3.90000000e+01],\n",
       "       [1.27320415e-01, 2.00000000e+01],\n",
       "       [1.32890365e-02, 6.40000000e+01],\n",
       "       [1.38408304e-01, 2.00000000e+01],\n",
       "       [7.69230769e-02, 1.80000000e+01],\n",
       "       [9.39628847e-03, 4.80000000e+01],\n",
       "       [3.60739950e-02, 5.50000000e+01],\n",
       "       [3.33333333e-02, 4.50000000e+01],\n",
       "       [7.43494424e-03, 4.50000000e+01],\n",
       "       [1.26782884e-01, 3.02725904e+01],\n",
       "       [4.26439232e-02, 3.02725904e+01],\n",
       "       [1.92817546e-02, 4.10000000e+01],\n",
       "       [4.76190476e-02, 2.20000000e+01],\n",
       "       [3.07692308e-02, 4.20000000e+01],\n",
       "       [3.84615385e-02, 2.90000000e+01],\n",
       "       [6.91840434e-02, 3.02725904e+01],\n",
       "       [3.60360360e-02, 9.20000000e-01],\n",
       "       [1.26182965e-01, 2.00000000e+01],\n",
       "       [7.31105314e-03, 2.70000000e+01],\n",
       "       [1.07238606e-01, 2.40000000e+01],\n",
       "       [1.05263158e-01, 3.25000000e+01],\n",
       "       [1.32450331e-01, 3.02725904e+01],\n",
       "       [1.29032258e-01, 3.02725904e+01],\n",
       "       [1.24223602e-01, 2.80000000e+01],\n",
       "       [7.69230769e-02, 1.90000000e+01],\n",
       "       [1.28617363e-01, 2.10000000e+01],\n",
       "       [5.74712644e-02, 3.65000000e+01],\n",
       "       [1.27320415e-01, 2.10000000e+01],\n",
       "       [4.34782609e-02, 2.90000000e+01],\n",
       "       [8.20795679e-02, 1.00000000e+00],\n",
       "       [7.85083415e-02, 3.00000000e+01],\n",
       "       [1.26649611e-01, 3.02725904e+01],\n",
       "       [           inf, 3.02725904e+01],\n",
       "       [1.32450331e-01, 3.02725904e+01],\n",
       "       [1.24223602e-01, 3.02725904e+01],\n",
       "       [1.15440115e-01, 1.70000000e+01],\n",
       "       [1.32905025e-02, 4.60000000e+01],\n",
       "       [1.29032258e-01, 3.02725904e+01],\n",
       "       [7.31105314e-03, 2.60000000e+01],\n",
       "       [6.45161290e-02, 3.02725904e+01],\n",
       "       [1.38408304e-01, 3.02725904e+01],\n",
       "       [3.84615385e-02, 2.00000000e+01],\n",
       "       [9.52380952e-02, 2.80000000e+01],\n",
       "       [3.84615385e-02, 4.00000000e+01],\n",
       "       [4.76190476e-02, 3.00000000e+01],\n",
       "       [9.52380952e-02, 2.20000000e+01],\n",
       "       [1.15440115e-01, 2.30000000e+01],\n",
       "       [7.25952813e-02, 7.50000000e-01],\n",
       "       [1.29032258e-01, 3.02725904e+01],\n",
       "       [6.55918351e-02, 9.00000000e+00],\n",
       "       [4.94743352e-02, 2.00000000e+00],\n",
       "       [1.37931034e-01, 3.60000000e+01],\n",
       "       [1.37931034e-01, 3.02725904e+01],\n",
       "       [1.21555866e-02, 2.40000000e+01],\n",
       "       [1.38327892e-01, 3.02725904e+01],\n",
       "       [1.24223602e-01, 3.02725904e+01],\n",
       "       [2.52525253e-02, 3.02725904e+01],\n",
       "       [1.43884892e-01, 3.00000000e+01],\n",
       "       [1.38327892e-01, 3.02725904e+01],\n",
       "       [1.22162322e-02, 5.30000000e+01],\n",
       "       [1.05263158e-01, 3.60000000e+01],\n",
       "       [1.26649611e-01, 2.60000000e+01],\n",
       "       [2.40504868e-02, 1.00000000e+00],\n",
       "       [4.61271634e-02, 3.02725904e+01],\n",
       "       [2.19780220e-02, 3.00000000e+01],\n",
       "       [1.27320415e-01, 2.90000000e+01],\n",
       "       [1.28617363e-01, 3.20000000e+01],\n",
       "       [6.64637307e-02, 3.02725904e+01],\n",
       "       [4.76190476e-02, 4.30000000e+01],\n",
       "       [1.15440115e-01, 2.40000000e+01],\n",
       "       [1.29032258e-01, 3.02725904e+01],\n",
       "       [3.76647834e-02, 6.40000000e+01],\n",
       "       [6.59848235e-03, 3.00000000e+01],\n",
       "       [1.06951872e-01, 8.30000000e-01],\n",
       "       [1.06951872e-02, 5.50000000e+01],\n",
       "       [7.08802620e-02, 4.50000000e+01],\n",
       "       [1.15440115e-01, 1.80000000e+01],\n",
       "       [1.38408304e-01, 2.20000000e+01],\n",
       "       [1.32013201e-01, 3.02725904e+01],\n",
       "       [1.29032258e-01, 3.70000000e+01],\n",
       "       [7.37282069e-03, 5.50000000e+01],\n",
       "       [1.29310902e-01, 1.70000000e+01],\n",
       "       [6.82496956e-03, 5.70000000e+01],\n",
       "       [9.52380952e-02, 1.90000000e+01],\n",
       "       [1.27320415e-01, 2.70000000e+01],\n",
       "       [3.17460317e-02, 2.20000000e+01],\n",
       "       [1.28617363e-01, 2.60000000e+01],\n",
       "       [1.38327892e-01, 2.50000000e+01],\n",
       "       [7.69230769e-02, 2.60000000e+01],\n",
       "       [3.76647834e-02, 3.30000000e+01],\n",
       "       [4.73176791e-03, 3.90000000e+01],\n",
       "       [1.41843972e-01, 2.30000000e+01],\n",
       "       [2.56410256e-02, 1.20000000e+01],\n",
       "       [1.26262626e-02, 4.60000000e+01],\n",
       "       [3.84615385e-02, 2.90000000e+01],\n",
       "       [7.69230769e-02, 2.10000000e+01],\n",
       "       [2.72108844e-02, 4.80000000e+01],\n",
       "       [3.36700337e-02, 3.90000000e+01],\n",
       "       [1.38408304e-01, 3.02725904e+01],\n",
       "       [6.35255404e-02, 1.90000000e+01],\n",
       "       [1.26649611e-01, 2.70000000e+01],\n",
       "       [3.84615385e-02, 3.00000000e+01],\n",
       "       [7.69230769e-02, 3.20000000e+01],\n",
       "       [1.38327892e-01, 3.90000000e+01],\n",
       "       [3.17460317e-02, 2.50000000e+01],\n",
       "       [1.38327892e-01, 3.02725904e+01],\n",
       "       [9.52380952e-02, 1.80000000e+01],\n",
       "       [1.31940046e-01, 3.20000000e+01],\n",
       "       [1.43781452e-02, 3.02725904e+01],\n",
       "       [1.95187001e-03, 5.80000000e+01],\n",
       "       [6.89655172e-02, 3.02725904e+01],\n",
       "       [1.30718954e-01, 1.60000000e+01],\n",
       "       [7.69230769e-02, 2.60000000e+01],\n",
       "       [1.38327892e-01, 3.80000000e+01],\n",
       "       [7.40740741e-02, 2.40000000e+01],\n",
       "       [4.76190476e-02, 3.10000000e+01],\n",
       "       [1.57832518e-02, 4.50000000e+01],\n",
       "       [9.52380952e-02, 2.50000000e+01],\n",
       "       [1.36054422e-02, 1.80000000e+01],\n",
       "       [1.53846154e-02, 4.90000000e+01],\n",
       "       [4.86026731e-02, 1.70000000e-01],\n",
       "       [3.84615385e-02, 5.00000000e+01],\n",
       "       [1.94253213e-02, 5.90000000e+01],\n",
       "       [1.26916438e-01, 3.02725904e+01],\n",
       "       [1.29032258e-01, 3.02725904e+01],\n",
       "       [6.43086817e-02, 3.00000000e+01],\n",
       "       [1.43781452e-02, 1.45000000e+01],\n",
       "       [2.70239594e-02, 2.40000000e+01],\n",
       "       [4.76190476e-02, 3.10000000e+01],\n",
       "       [1.15440115e-01, 2.70000000e+01],\n",
       "       [1.80369650e-02, 2.50000000e+01],\n",
       "       [1.43781452e-02, 3.02725904e+01],\n",
       "       [6.91644246e-02, 3.02725904e+01],\n",
       "       [2.51968504e-02, 2.20000000e+01],\n",
       "       [1.68350168e-02, 4.50000000e+01],\n",
       "       [7.21589228e-02, 2.90000000e+01],\n",
       "       [8.69565217e-02, 2.10000000e+01],\n",
       "       [7.43494424e-03, 3.10000000e+01],\n",
       "       [           inf, 4.90000000e+01],\n",
       "       [7.69230769e-02, 4.40000000e+01],\n",
       "       [1.22162322e-02, 5.40000000e+01],\n",
       "       [3.81133873e-03, 4.50000000e+01],\n",
       "       [1.15440115e-01, 2.20000000e+01],\n",
       "       [8.69565217e-02, 2.10000000e+01],\n",
       "       [2.00000000e-02, 5.50000000e+01],\n",
       "       [3.18598168e-02, 5.00000000e+00],\n",
       "       [1.29032258e-01, 3.02725904e+01],\n",
       "       [1.26916438e-01, 2.60000000e+01],\n",
       "       [6.89655172e-02, 3.02725904e+01],\n",
       "       [6.21118012e-02, 1.90000000e+01],\n",
       "       [7.76699029e-02, 3.02725904e+01],\n",
       "       [1.53846154e-02, 2.40000000e+01],\n",
       "       [1.28617363e-01, 2.40000000e+01],\n",
       "       [7.69230769e-02, 5.70000000e+01],\n",
       "       [1.29032258e-01, 2.10000000e+01],\n",
       "       [4.74495848e-02, 6.00000000e+00],\n",
       "       [1.06951872e-02, 2.30000000e+01],\n",
       "       [2.53807107e-02, 5.10000000e+01],\n",
       "       [4.93827160e-02, 1.30000000e+01],\n",
       "       [9.52380952e-02, 4.70000000e+01],\n",
       "       [4.54029512e-02, 2.90000000e+01],\n",
       "       [1.66666667e-02, 1.80000000e+01],\n",
       "       [1.37931034e-01, 2.40000000e+01],\n",
       "       [1.26262626e-02, 4.80000000e+01],\n",
       "       [1.28617363e-01, 2.20000000e+01],\n",
       "       [1.29310902e-01, 3.10000000e+01],\n",
       "       [6.06550625e-03, 3.00000000e+01],\n",
       "       [4.76190476e-02, 3.80000000e+01],\n",
       "       [1.68350168e-02, 2.20000000e+01],\n",
       "       [2.12314225e-02, 1.70000000e+01],\n",
       "       [3.60739950e-02, 4.30000000e+01],\n",
       "       [7.21370604e-02, 2.00000000e+01],\n",
       "       [9.52380952e-02, 2.30000000e+01],\n",
       "       [4.72813239e-03, 5.00000000e+01],\n",
       "       [1.29520257e-01, 3.02725904e+01],\n",
       "       [7.25952813e-02, 3.00000000e+00],\n",
       "       [1.29032258e-01, 3.02725904e+01],\n",
       "       [1.11111111e-02, 3.70000000e+01],\n",
       "       [1.28617363e-01, 2.80000000e+01],\n",
       "       [1.24223602e-01, 3.02725904e+01],\n",
       "       [9.18273646e-03, 3.90000000e+01],\n",
       "       [1.37931034e-01, 3.85000000e+01],\n",
       "       [1.24223602e-01, 3.02725904e+01],\n",
       "       [4.47261196e-02, 3.02725904e+01]])"
      ]
     },
     "execution_count": 60,
     "metadata": {},
     "output_type": "execute_result"
    }
   ],
   "source": [
    "new_tranformed"
   ]
  },
  {
   "cell_type": "markdown",
   "id": "c8e57618-9b04-482d-9c78-0dc22fef3815",
   "metadata": {},
   "source": [
    "### keep in  mind you can change the value of np.log1,or what ever function you want to use"
   ]
  },
  {
   "cell_type": "code",
   "execution_count": null,
   "id": "3a032b85-2e73-4c41-b866-6f2d7a55593a",
   "metadata": {},
   "outputs": [],
   "source": []
  }
 ],
 "metadata": {
  "kernelspec": {
   "display_name": "Python 3 (ipykernel)",
   "language": "python",
   "name": "python3"
  },
  "language_info": {
   "codemirror_mode": {
    "name": "ipython",
    "version": 3
   },
   "file_extension": ".py",
   "mimetype": "text/x-python",
   "name": "python",
   "nbconvert_exporter": "python",
   "pygments_lexer": "ipython3",
   "version": "3.10.12"
  }
 },
 "nbformat": 4,
 "nbformat_minor": 5
}
